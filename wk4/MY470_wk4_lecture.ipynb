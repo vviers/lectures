{
 "cells": [
  {
   "cell_type": "markdown",
   "metadata": {
    "slideshow": {
     "slide_type": "slide"
    }
   },
   "source": [
    "### MY470 Computer Programming\n",
    "# Functions in Python\n",
    "### Week 4 Lecture"
   ]
  },
  {
   "cell_type": "markdown",
   "metadata": {
    "slideshow": {
     "slide_type": "slide"
    }
   },
   "source": [
    "## Overview\n",
    "\n",
    "* Decomposition and abstraction\n",
    "* Defining and calling functions\n",
    "* Variable scope\n",
    "* Modules and packages\n",
    "* Recursion\n",
    "---\n",
    "* Useful Python package: `statsmodels`"
   ]
  },
  {
   "cell_type": "markdown",
   "metadata": {
    "slideshow": {
     "slide_type": "slide"
    }
   },
   "source": [
    "## From Last Week: [Control Flow](https://www.youtube.com/watch?v=k0xgjUhEG3U)\n",
    "\n",
    "![Three categories of control flow](figs/control_flow.png \"Three categories of control flow\")\n"
   ]
  },
  {
   "cell_type": "markdown",
   "metadata": {
    "slideshow": {
     "slide_type": "slide"
    }
   },
   "source": [
    "## Functions\n",
    "\n",
    "\n",
    "* Built-in\n",
    "  * `len()`, `max()`, `range()`, `open()`, etc.\n",
    "* User-defined\n",
    "  * You\n",
    "  * Collaborators\n",
    "  * The open-source community\n",
    "  "
   ]
  },
  {
   "cell_type": "markdown",
   "metadata": {
    "slideshow": {
     "slide_type": "slide"
    }
   },
   "source": [
    "## Decomposition and Abstraction\n",
    "\n",
    "![Decomposition and abstraction](figs/decomposition_abstraction.png \"Decomposition and abstraction\")"
   ]
  },
  {
   "cell_type": "markdown",
   "metadata": {
    "slideshow": {
     "slide_type": "notes"
    }
   },
   "source": [
    "* Decomposition allows to break the program into self-contained parts – it creates structure\n",
    "* Abstraction allows to use code as if it is a black box – it hides detail"
   ]
  },
  {
   "cell_type": "markdown",
   "metadata": {
    "slideshow": {
     "slide_type": "slide"
    }
   },
   "source": [
    "## Defining and Calling Functions\n",
    "\n",
    "### Defining a function\n",
    "\n",
    "```\n",
    "def *function_name*(*list of parameters*):\n",
    "    *body of function*\n",
    "```\n",
    "\n",
    "### Calling a function\n",
    "\n",
    "```\n",
    "*function_name*(*arguments*)\n",
    "```\n"
   ]
  },
  {
   "cell_type": "markdown",
   "metadata": {
    "slideshow": {
     "slide_type": "slide"
    }
   },
   "source": [
    "## When the Function is Used, the Parameters are Bound to the Arguments\n",
    "\n",
    "```\n",
    "def *function_name*(*list of parameters*):\n",
    "    *body of function*\n",
    "\n",
    "*function_name*(*arguments*)\n",
    "```\n"
   ]
  },
  {
   "cell_type": "code",
   "execution_count": 10,
   "metadata": {
    "slideshow": {
     "slide_type": "-"
    }
   },
   "outputs": [
    {
     "name": "stdout",
     "output_type": "stream",
     "text": [
      "4\n"
     ]
    }
   ],
   "source": [
    "def get_larger(x, y):\n",
    "    '''Assumes x and y are of numeric type.\n",
    "    Returns the larger of x and y.'''\n",
    "    if x > y:\n",
    "        # The execution of a `return` statement terminates the function call\n",
    "        return x\n",
    "    else:\n",
    "        return y\n",
    "    \n",
    "m = get_larger(3, 4)\n",
    "print(m)"
   ]
  },
  {
   "cell_type": "markdown",
   "metadata": {
    "slideshow": {
     "slide_type": "notes"
    }
   },
   "source": [
    "Note that `def` and `return` are reserved words in Python. "
   ]
  },
  {
   "cell_type": "markdown",
   "metadata": {
    "slideshow": {
     "slide_type": "slide"
    }
   },
   "source": [
    "## A Function Call Always Returns a Value\n",
    "\n",
    "* The execution of a `return` statement terminates the function call\n",
    "* The function call also terminates when there are no more statements to execute\n",
    "* If no expression follows `return` or there is no `return` statement, the function returns `None`       "
   ]
  },
  {
   "cell_type": "code",
   "execution_count": 11,
   "metadata": {
    "slideshow": {
     "slide_type": "-"
    }
   },
   "outputs": [
    {
     "name": "stdout",
     "output_type": "stream",
     "text": [
      "5 6 None\n"
     ]
    }
   ],
   "source": [
    "def get_larger(x, y):\n",
    "    if x > y:\n",
    "        return x\n",
    "    if y > x:\n",
    "        return y\n",
    "\n",
    "ex1 = get_larger(3, 5)\n",
    "ex2 = get_larger(6, 4)\n",
    "ex3 = get_larger(3, 3)\n",
    "\n",
    "print(ex1, ex2, ex3)"
   ]
  },
  {
   "cell_type": "markdown",
   "metadata": {
    "slideshow": {
     "slide_type": "slide"
    }
   },
   "source": [
    "## Functions with Multiple Returned Values"
   ]
  },
  {
   "cell_type": "code",
   "execution_count": 12,
   "metadata": {
    "slideshow": {
     "slide_type": "-"
    }
   },
   "outputs": [
    {
     "name": "stdout",
     "output_type": "stream",
     "text": [
      "(10, 6)\n",
      "10\n",
      "6\n"
     ]
    }
   ],
   "source": [
    "def double_one(a):\n",
    "    return 2*a\n",
    "\n",
    "def double_two(a, b):\n",
    "    return 2*a, 2*b\n",
    "\n",
    "x = double_two(5, 3)\n",
    "print(x)\n",
    "\n",
    "x1, x2 = double_two(5, 3)\n",
    "print(x1)\n",
    "print(x2)"
   ]
  },
  {
   "cell_type": "markdown",
   "metadata": {
    "slideshow": {
     "slide_type": "slide"
    }
   },
   "source": [
    "## Positional vs. Keyword Arguments"
   ]
  },
  {
   "cell_type": "code",
   "execution_count": 13,
   "metadata": {
    "slideshow": {
     "slide_type": "-"
    }
   },
   "outputs": [
    {
     "name": "stdout",
     "output_type": "stream",
     "text": [
      "3 2 1\n",
      "3 2 1\n",
      "3 2 1\n"
     ]
    }
   ],
   "source": [
    "def print_reverse(first, second, third):\n",
    "    print(third, second, first)\n",
    "    \n",
    "print_reverse(1, 2, 3)\n",
    "print_reverse(third = 3, second = 2, first = 1)\n",
    "print_reverse(1, second = 2, third = 3)\n",
    "# print_reverse(first = 1, 2, 3)  # Gives a syntax error"
   ]
  },
  {
   "cell_type": "markdown",
   "metadata": {
    "slideshow": {
     "slide_type": "fragment"
    }
   },
   "source": [
    "### Keyword arguments cannot come before positional arguments!"
   ]
  },
  {
   "cell_type": "markdown",
   "metadata": {
    "slideshow": {
     "slide_type": "slide"
    }
   },
   "source": [
    "## Default Parameter Values\n",
    "\n",
    "* Default values allow to call a function with fewer arguments than specified\n",
    "* Default arguments cannot come before non-default arguments!"
   ]
  },
  {
   "cell_type": "code",
   "execution_count": 14,
   "metadata": {
    "slideshow": {
     "slide_type": "-"
    }
   },
   "outputs": [
    {
     "name": "stdout",
     "output_type": "stream",
     "text": [
      "The quick brown fox jumps over the lazy dog.\n",
      "The quick brown fox jumps over the lazy dog.\n",
      "The quick brown fox jumps over the lazy dog\n"
     ]
    }
   ],
   "source": [
    "def pretty_print(lst, sep, fullstop = True, capitalize = True):\n",
    "    toprint = sep.join(lst)\n",
    "    if fullstop:\n",
    "        toprint+='.'\n",
    "    if capitalize:\n",
    "        toprint = toprint.capitalize()\n",
    "    print(toprint)\n",
    "\n",
    "wordlst = ['the', 'quick', 'brown', 'fox', 'jumps', 'over', 'the', 'lazy', 'dog']  # an English pangram\n",
    "\n",
    "pretty_print(wordlst, ' ', True, True)\n",
    "pretty_print(wordlst, ' ')\n",
    "pretty_print(wordlst, ' ', False)\n"
   ]
  },
  {
   "cell_type": "markdown",
   "metadata": {
    "slideshow": {
     "slide_type": "slide"
    }
   },
   "source": [
    "## Functions with Variable Number of Arguments"
   ]
  },
  {
   "cell_type": "code",
   "execution_count": 15,
   "metadata": {
    "slideshow": {
     "slide_type": "-"
    }
   },
   "outputs": [
    {
     "name": "stdout",
     "output_type": "stream",
     "text": [
      "[2]\n",
      "[2, 4, 6]\n",
      "[]\n"
     ]
    }
   ],
   "source": [
    "def double_many(*args):\n",
    "    return [2*i for i in args]\n",
    "\n",
    "print(double_many(1))\n",
    "print(double_many(1, 2, 3))\n",
    "print(double_many())"
   ]
  },
  {
   "cell_type": "markdown",
   "metadata": {
    "slideshow": {
     "slide_type": "slide"
    }
   },
   "source": [
    "## A Function Defines a New Scope\n",
    "\n",
    "* Scope = name space"
   ]
  },
  {
   "cell_type": "code",
   "execution_count": 16,
   "metadata": {
    "slideshow": {
     "slide_type": "-"
    }
   },
   "outputs": [
    {
     "name": "stdout",
     "output_type": "stream",
     "text": [
      "1\n"
     ]
    }
   ],
   "source": [
    "def func(x, y):\n",
    "    x += 1\n",
    "    # x is a parameter, z is a local variable\n",
    "    z = x + y   # z, x, and y exist only in the scope of the definition of func\n",
    "    return z\n",
    "\n",
    "x = 1\n",
    "res = func(x, 5)\n",
    "\n",
    "print(x)  # x has not changed \n",
    "#print(z)  # Returns an error\n"
   ]
  },
  {
   "cell_type": "markdown",
   "metadata": {
    "slideshow": {
     "slide_type": "fragment"
    }
   },
   "source": [
    "### This means you can reuse your favorite variable names in different functions!"
   ]
  },
  {
   "cell_type": "markdown",
   "metadata": {
    "slideshow": {
     "slide_type": "slide"
    }
   },
   "source": [
    "## The Global Scope"
   ]
  },
  {
   "cell_type": "code",
   "execution_count": 17,
   "metadata": {
    "slideshow": {
     "slide_type": "-"
    }
   },
   "outputs": [
    {
     "name": "stdout",
     "output_type": "stream",
     "text": [
      "3\n"
     ]
    }
   ],
   "source": [
    "GLOBVAR = 3\n",
    "\n",
    "def print_global():\n",
    "    print(GLOBVAR)  # Since GLOBVAR is not defined in the function, it is treated as global\n",
    "\n",
    "print_global()"
   ]
  },
  {
   "cell_type": "markdown",
   "metadata": {
    "slideshow": {
     "slide_type": "fragment"
    }
   },
   "source": [
    "### Use CAPITALS to name global variables!"
   ]
  },
  {
   "cell_type": "markdown",
   "metadata": {
    "slideshow": {
     "slide_type": "slide"
    }
   },
   "source": [
    "## Modules\n",
    "\n",
    "* For large programs, store different parts in `.py` files\n",
    "* Get access using `import` statements"
   ]
  },
  {
   "cell_type": "code",
   "execution_count": 18,
   "metadata": {
    "slideshow": {
     "slide_type": "-"
    }
   },
   "outputs": [
    {
     "name": "stdout",
     "output_type": "stream",
     "text": [
      "She said: \"Hello!\"\n"
     ]
    }
   ],
   "source": [
    "import module\n",
    "\n",
    "module.my_func('Hello!')\n"
   ]
  },
  {
   "cell_type": "code",
   "execution_count": 19,
   "metadata": {
    "slideshow": {
     "slide_type": "fragment"
    }
   },
   "outputs": [
    {
     "name": "stdout",
     "output_type": "stream",
     "text": [
      "She said: \"Hello there!\"\n"
     ]
    }
   ],
   "source": [
    "import module as md\n",
    "\n",
    "md.my_func('Hello there!')\n"
   ]
  },
  {
   "cell_type": "code",
   "execution_count": 20,
   "metadata": {
    "slideshow": {
     "slide_type": "fragment"
    }
   },
   "outputs": [
    {
     "name": "stdout",
     "output_type": "stream",
     "text": [
      "She said: \"HELLO! DO YOU HEAR ME?\"\n"
     ]
    }
   ],
   "source": [
    "from module import *\n",
    "\n",
    "my_func('HELLO! DO YOU HEAR ME?')\n"
   ]
  },
  {
   "cell_type": "markdown",
   "metadata": {
    "slideshow": {
     "slide_type": "slide"
    }
   },
   "source": [
    "## Useful Python Modules\n",
    "\n",
    "https://docs.python.org/3/library/\n",
    "\n",
    "* `re` – Regular expression operations\n",
    "* `datetime` – Basic date and time types\n",
    "* `math` – Mathematical functions\n",
    "* `random` – Generate pseudo-random numbers\n",
    "* `os.path` – Common pathname manipulations\n",
    "* `pickle` — Python object serialization\n",
    "* `csv` — CSV file reading and writing\n",
    "* `json` — JSON encoder and decoder\n",
    "* ..."
   ]
  },
  {
   "cell_type": "markdown",
   "metadata": {
    "slideshow": {
     "slide_type": "slide"
    }
   },
   "source": [
    "## Useful Python Packages\n",
    "\n",
    "* `numpy` – Scientific computing with multi-dimensional arrays\n",
    "* `pandas` – Data anlysis with table-like structures (R, pretty much)\n",
    "* `statsmodels` – Statistical data analysis with linear models\n",
    "* `scikit-learn` – Data mining and machine learning\n",
    "* `networkx` – Network analysis\n",
    "* `matplotlib` – Plotting\n",
    "* ..."
   ]
  },
  {
   "cell_type": "markdown",
   "metadata": {
    "slideshow": {
     "slide_type": "slide"
    }
   },
   "source": [
    "## Using Modules and Packages in Python \n",
    "\n",
    "### How does a programmer write an essay?\n",
    "\n",
    "![Modules and packages in Python](figs/python_modules.png \"Modules and packages in Python\")\n"
   ]
  },
  {
   "cell_type": "markdown",
   "metadata": {
    "slideshow": {
     "slide_type": "slide"
    }
   },
   "source": [
    "## Functions Calling Other Functions\n",
    "\n",
    "![Functions calling functions](figs/functions.png \"Functions calling functions\")\n"
   ]
  },
  {
   "cell_type": "markdown",
   "metadata": {
    "slideshow": {
     "slide_type": "slide"
    }
   },
   "source": [
    "## Functions Calling Themselves, A.K.A. Recursion\n",
    "\n",
    "**Recursion** is a problem-solving method where the solution to a problem depends on solutions to smaller instances of the same problem.\n",
    "\n"
   ]
  },
  {
   "cell_type": "code",
   "execution_count": 21,
   "metadata": {
    "slideshow": {
     "slide_type": "-"
    }
   },
   "outputs": [
    {
     "name": "stdout",
     "output_type": "stream",
     "text": [
      "15\n"
     ]
    }
   ],
   "source": [
    "# Consider the sum of elements in a list\n",
    "\n",
    "lst = [1, 2, 3, 4, 5]\n",
    "# We want (1 + 2 + 3 + 4 + 5), which is equivalent to (1 + (2 + (3 + (4 + 5)))).\n",
    "# This suggests that we can reduce the problem to the problem of adding two numbers.\n",
    "\n",
    "def list_sum(lst):\n",
    "    '''Assumes lst is a sequence of numeric types.\n",
    "    Returns the sum of all elements in lst.'''\n",
    "    if len(lst) == 1:\n",
    "        return lst[0]   # base case\n",
    "    else:\n",
    "        return lst[0] + list_sum(lst[1:])   # recursive case\n",
    "    \n",
    "print(list_sum(lst))\n"
   ]
  },
  {
   "cell_type": "markdown",
   "metadata": {
    "slideshow": {
     "slide_type": "slide"
    }
   },
   "source": [
    "## How Recursion Works"
   ]
  },
  {
   "cell_type": "code",
   "execution_count": 22,
   "metadata": {
    "collapsed": true
   },
   "outputs": [],
   "source": [
    "def list_sum(lst):\n",
    "    if len(lst) == 1:  \n",
    "        return lst[0]\n",
    "    else:\n",
    "        return lst[0] + list_sum(lst[1:]) "
   ]
  },
  {
   "cell_type": "markdown",
   "metadata": {
    "slideshow": {
     "slide_type": "-"
    }
   },
   "source": [
    "![Recursion](figs/recursion.png \"Recursion\")"
   ]
  },
  {
   "cell_type": "markdown",
   "metadata": {
    "slideshow": {
     "slide_type": "slide"
    }
   },
   "source": [
    "## Writing Recursive Procedures\n",
    "\n",
    "1. Define the general case\n",
    "* Define the base case\n",
    "* Ensure the base case is reached after a finite number of recursive calls"
   ]
  },
  {
   "cell_type": "markdown",
   "metadata": {
    "slideshow": {
     "slide_type": "slide"
    }
   },
   "source": [
    "## Recursion Example: The Factorial Function `n!`*\n",
    "\n",
    "\\* The product of all positive integers less than or equal to n\n",
    "\n",
    "![Factorial for estimating permutations](figs/factorial_permutation.jpg \"Factorial for estimating permutations\")\n"
   ]
  },
  {
   "cell_type": "markdown",
   "metadata": {
    "slideshow": {
     "slide_type": "slide"
    }
   },
   "source": [
    "## Recursion Example: What is `n!`?\n",
    "\n",
    "1. General case: `n! = n * (n-1)!`\n",
    "* Base case: `1! = 1`\n",
    "* Base case reached when `n==1`"
   ]
  },
  {
   "cell_type": "code",
   "execution_count": 23,
   "metadata": {
    "slideshow": {
     "slide_type": "-"
    }
   },
   "outputs": [
    {
     "name": "stdout",
     "output_type": "stream",
     "text": [
      "before 5\n",
      "before 4\n",
      "before 3\n",
      "before 2\n",
      "base case 1\n",
      "after 2 2\n",
      "after 3 6\n",
      "after 4 24\n",
      "after 5 120\n",
      "120\n"
     ]
    }
   ],
   "source": [
    "def factorial(n):\n",
    "    '''Assumes n is a positive integer.\n",
    "    Estimates n!.'''\n",
    "    if n==1:\n",
    "        print('base case', n)\n",
    "        answer = 1\n",
    "    else:\n",
    "        print('before', n)\n",
    "        answer = n * factorial(n-1)\n",
    "        print('after', n, answer)\n",
    "    return answer\n",
    "\n",
    "print(factorial(5))"
   ]
  },
  {
   "cell_type": "markdown",
   "metadata": {
    "slideshow": {
     "slide_type": "slide"
    }
   },
   "source": [
    "## From Last Week: Approximation with Bisection Search"
   ]
  },
  {
   "cell_type": "code",
   "execution_count": 24,
   "metadata": {
    "slideshow": {
     "slide_type": "-"
    }
   },
   "outputs": [
    {
     "name": "stdout",
     "output_type": "stream",
     "text": [
      "5.00030517578125\n"
     ]
    }
   ],
   "source": [
    "def bisec_search(x, epsilon):\n",
    "    '''Assumes x and epsilon are numeric.\n",
    "    Finds an approximation to the square root \n",
    "    of a number x using bisection search.'''\n",
    "\n",
    "    # Define interval for search\n",
    "    low = 0\n",
    "    high = max(1, x)\n",
    "\n",
    "    # Start in the middle\n",
    "    guess = (low + high) / 2 \n",
    "\n",
    "    # Narrow down search interval until guess close enough\n",
    "    while abs(guess**2 - x) >= epsilon:\n",
    "        if guess**2 < x:\n",
    "            low = guess\n",
    "        else:\n",
    "            high = guess\n",
    "        guess = (low + high) / 2\n",
    "        \n",
    "    return guess\n",
    "\n",
    "print(bisec_search(25, 0.01))\n"
   ]
  },
  {
   "cell_type": "markdown",
   "metadata": {
    "slideshow": {
     "slide_type": "slide"
    }
   },
   "source": [
    "## Recursion Example: Approximation with Bisection Search\n",
    "\n",
    "1. General case: \n",
    "\n",
    "```\n",
    "guess = (low + high) / 2\n",
    "if guess**2 < x: low = guess\n",
    "else: high = guess\n",
    "```\n",
    "            \n",
    "* Base case: `return guess`\n",
    "* The base case is reached when `abs(guess**2 - x) < epsilon`"
   ]
  },
  {
   "cell_type": "code",
   "execution_count": 25,
   "metadata": {
    "slideshow": {
     "slide_type": "-"
    }
   },
   "outputs": [
    {
     "name": "stdout",
     "output_type": "stream",
     "text": [
      "5.00030517578125\n"
     ]
    }
   ],
   "source": [
    "def bisec_search_rec(low, high, x, epsilon):\n",
    "    # Start in the middle of the interval\n",
    "    guess = (low + high) / 2\n",
    "    \n",
    "    if abs(guess**2 - x) < epsilon:\n",
    "        return guess\n",
    "    else:\n",
    "        if guess**2 < x:\n",
    "            return bisec_search_rec(guess, high, x, epsilon)\n",
    "        else:\n",
    "            return bisec_search_rec(low, guess, x, epsilon)\n",
    "\n",
    "print(bisec_search_rec(0, 25, 25, 0.01))\n"
   ]
  },
  {
   "cell_type": "markdown",
   "metadata": {
    "slideshow": {
     "slide_type": "slide"
    }
   },
   "source": [
    "## Recursion Example: The Fibonacci Numbers*\n",
    "\n",
    "\\* An integer sequence where every number after the first two is the sum of the two preceding ones: `0, 1, 1, 2, 3, 5, 8, 13, ...` (modern version)\n",
    "\n",
    "![Fibonacci numbers for rabbit multiplication](figs/fibonacci_rabbits.jpg \"Fibonacci numbers for rabbit multiplication\")\n"
   ]
  },
  {
   "cell_type": "markdown",
   "metadata": {
    "slideshow": {
     "slide_type": "slide"
    }
   },
   "source": [
    "## Recursion Example: What Is the n-th Fibonacci Number?\n",
    "\n",
    "1. General case: `fib(n) = fib(n - 1) + fib(n - 2)`\n",
    "* Base case: `fib(0) = 0`, `fib(1) = 1`\n",
    "* The base case is reached when `n==0` or `n==1`"
   ]
  },
  {
   "cell_type": "code",
   "execution_count": 26,
   "metadata": {
    "slideshow": {
     "slide_type": "-"
    }
   },
   "outputs": [
    {
     "name": "stdout",
     "output_type": "stream",
     "text": [
      "0\n",
      "1\n",
      "1\n",
      "2\n",
      "3\n",
      "5\n",
      "8\n",
      "13\n",
      "21\n",
      "34\n"
     ]
    }
   ],
   "source": [
    "def fib(n):\n",
    "    if n==0:\n",
    "        return 0\n",
    "    elif n==1:\n",
    "        return 1\n",
    "    else:\n",
    "        return fib(n - 1) + fib(n - 2)\n",
    "\n",
    "for i in range(10): \n",
    "    print(fib(i))"
   ]
  },
  {
   "cell_type": "markdown",
   "metadata": {
    "slideshow": {
     "slide_type": "slide"
    }
   },
   "source": [
    "## Recursion Could be Quite Inefficient\n",
    "\n",
    "Even if you can formulate a problem in recursive terms, it does not mean that recursion is the most efficient way to solve it."
   ]
  },
  {
   "cell_type": "code",
   "execution_count": 1,
   "metadata": {
    "collapsed": true,
    "slideshow": {
     "slide_type": "-"
    }
   },
   "outputs": [],
   "source": [
    "def fib_rec(n):\n",
    "    if n==0:\n",
    "        return 0\n",
    "    elif n==1:\n",
    "        return 1\n",
    "    else:\n",
    "        return fib_rec(n - 1) + fib_rec(n - 2)\n",
    "\n",
    "\n",
    "def fib_ite(n):    \n",
    "    first = 0\n",
    "    second = 1\n",
    "    for i in range(n):\n",
    "        old_first = first # remember what first was\n",
    "        first = second # shift the first forward\n",
    "        second = old_first + first # estimate the new second\n",
    "    return first\n"
   ]
  },
  {
   "cell_type": "markdown",
   "metadata": {
    "slideshow": {
     "slide_type": "slide"
    }
   },
   "source": [
    "## Comparing the Execution Time"
   ]
  },
  {
   "cell_type": "code",
   "execution_count": 2,
   "metadata": {
    "slideshow": {
     "slide_type": "-"
    }
   },
   "outputs": [
    {
     "name": "stdout",
     "output_type": "stream",
     "text": [
      "Recursion: 1.1793780326843262 seconds\n",
      "Iteration: 4.7206878662109375e-05 seconds\n",
      "True\n"
     ]
    }
   ],
   "source": [
    "from time import time\n",
    "\n",
    "start_time = time()\n",
    "fib33_rec = fib_rec(33)\n",
    "print('Recursion:', (time() - start_time), 'seconds')\n",
    "\n",
    "start_time = time()\n",
    "fib33_ite = fib_ite(33)\n",
    "print('Iteration:', (time() - start_time), 'seconds')\n",
    "\n",
    "print(fib33_rec==fib33_ite) "
   ]
  },
  {
   "cell_type": "markdown",
   "metadata": {
    "slideshow": {
     "slide_type": "slide"
    }
   },
   "source": [
    "## The Fibonacci Numbers: The Number of Recursive Calls Increases Exponentially with `n`\n",
    "\n",
    "![Fibonacci](figs/fibonacci.png \"Fibonacci\")"
   ]
  },
  {
   "cell_type": "markdown",
   "metadata": {
    "slideshow": {
     "slide_type": "-"
    }
   },
   "source": [
    "The calls form a binary tree because there are two recursive self-calls."
   ]
  },
  {
   "cell_type": "markdown",
   "metadata": {
    "slideshow": {
     "slide_type": "slide"
    }
   },
   "source": [
    "## Any recursive algorithm can be transformed into an iterative one! \n",
    "\n",
    "![Recursion and iteration](figs/recursion_iteration.jpg \"Recursion and iteration\")"
   ]
  },
  {
   "cell_type": "markdown",
   "metadata": {
    "slideshow": {
     "slide_type": "slide"
    }
   },
   "source": [
    "## Functions\n",
    "\n",
    "Functions provide **abstraction** and **decomposition**:\n",
    "\n",
    "* Break large problems into smaller ones\n",
    "* Hide the gory implementation details\n",
    "* Present elementary building blocks that can be recombined to solve new problems\n",
    "* Improve code legibility\n",
    "* Enable collaboration\n"
   ]
  },
  {
   "cell_type": "markdown",
   "metadata": {
    "slideshow": {
     "slide_type": "fragment"
    }
   },
   "source": [
    "-------\n",
    "\n",
    "* **Lab**: Writing and calling functions in Python; function specification\n",
    "* **Next week**: Classes in Python"
   ]
  },
  {
   "cell_type": "markdown",
   "metadata": {
    "slideshow": {
     "slide_type": "notes"
    }
   },
   "source": [
    "---"
   ]
  },
  {
   "cell_type": "markdown",
   "metadata": {
    "slideshow": {
     "slide_type": "slide"
    }
   },
   "source": [
    "### MY470 Computer Programming\n",
    "# Useful Python Library: `statsmodels`\n",
    "### Week 4 Extra"
   ]
  },
  {
   "cell_type": "markdown",
   "metadata": {
    "slideshow": {
     "slide_type": "slide"
    }
   },
   "source": [
    "## Background\n",
    "\n",
    "![Statsmodels](figs/statsmodels_hybi_banner.png \"Statsmodels\")\n",
    "\n",
    "* Python library for estimating statistical models and conducting statistical tests\n",
    "* Uses `numpy` for estimation\n",
    "* Integrates with `pandas` for data handling\n",
    "* Provides an `R`-like formula interface"
   ]
  },
  {
   "cell_type": "markdown",
   "metadata": {
    "slideshow": {
     "slide_type": "slide"
    }
   },
   "source": [
    "## Typical Steps\n",
    "\n",
    "1. Get data (`pandas`)\n",
    "* Inspect data (`pandas`, `matplotlib`)\n",
    "* Define and fit model (`statsmodels`)\n",
    "* Inspect model results (`statsmodels`, `matplotlib`)\n",
    "* Inspect model fit (`statsmodels`, `matplotlib`)"
   ]
  },
  {
   "cell_type": "markdown",
   "metadata": {
    "slideshow": {
     "slide_type": "slide"
    }
   },
   "source": [
    "## OLS Example: Inspect Data"
   ]
  },
  {
   "cell_type": "code",
   "execution_count": 19,
   "metadata": {
    "slideshow": {
     "slide_type": "-"
    }
   },
   "outputs": [
    {
     "name": "stdout",
     "output_type": "stream",
     "text": [
      "  state region    pop  SATV  SATM  percent  dollars  pay\n",
      "0    AL    ESC   4041   470   514        8    3.648   27\n",
      "1    AK    PAC    550   438   476       42    7.887   43\n",
      "2    AZ    MTN   3665   445   497       25    4.231   30\n",
      "3    AR    WSC   2351   470   511        6    3.334   23\n",
      "4    CA    PAC  29760   419   484       45    4.826   39\n"
     ]
    }
   ],
   "source": [
    "import numpy as np\n",
    "import pandas as pd\n",
    "import statsmodels.api as sm\n",
    "import statsmodels.formula.api as smf\n",
    "\n",
    "# Get data\n",
    "df = pd.read_csv('States.csv')\n",
    "print(df.head())"
   ]
  },
  {
   "cell_type": "code",
   "execution_count": 32,
   "metadata": {
    "slideshow": {
     "slide_type": "fragment"
    }
   },
   "outputs": [
    {
     "name": "stdout",
     "output_type": "stream",
     "text": [
      "                pop        SATV        SATM    percent    dollars        pay\n",
      "count     51.000000   51.000000   51.000000  51.000000  51.000000  51.000000\n",
      "mean    4876.647059  448.156863  497.392157  33.745098   5.175490  30.941176\n",
      "std     5439.202691   30.821014   34.568817  24.073922   1.376166   5.308151\n",
      "min      454.000000  397.000000  437.000000   4.000000   2.993000  22.000000\n",
      "25%     1215.000000  422.500000  470.000000  11.500000   4.354000  27.500000\n",
      "50%     3294.000000  443.000000  490.000000  25.000000   5.045000  30.000000\n",
      "75%     5780.000000  474.500000  522.500000  57.500000   5.689500  33.500000\n",
      "max    29760.000000  511.000000  577.000000  74.000000   9.159000  43.000000\n"
     ]
    }
   ],
   "source": [
    "# Inspect data\n",
    "print(df.describe())"
   ]
  },
  {
   "cell_type": "markdown",
   "metadata": {
    "slideshow": {
     "slide_type": "slide"
    }
   },
   "source": [
    "## OLS Example: Fit Model"
   ]
  },
  {
   "cell_type": "code",
   "execution_count": 31,
   "metadata": {
    "scrolled": false,
    "slideshow": {
     "slide_type": "-"
    }
   },
   "outputs": [
    {
     "name": "stdout",
     "output_type": "stream",
     "text": [
      "                            OLS Regression Results                            \n",
      "==============================================================================\n",
      "Dep. Variable:                   SATV   R-squared:                       0.782\n",
      "Model:                            OLS   Adj. R-squared:                  0.763\n",
      "Method:                 Least Squares   F-statistic:                     41.35\n",
      "Date:                Tue, 11 Sep 2018   Prob (F-statistic):           1.11e-14\n",
      "Time:                        10:39:43   Log-Likelihood:                -207.81\n",
      "No. Observations:                  51   AIC:                             425.6\n",
      "Df Residuals:                      46   BIC:                             435.3\n",
      "Df Model:                           4                                         \n",
      "Covariance Type:            nonrobust                                         \n",
      "===============================================================================\n",
      "                  coef    std err          t      P>|t|      [95.0% Conf. Int.]\n",
      "-------------------------------------------------------------------------------\n",
      "Intercept     508.6092     19.627     25.914      0.000       469.102   548.116\n",
      "percent        -1.2205      0.127     -9.592      0.000        -1.477    -0.964\n",
      "dollars         5.1671      3.320      1.556      0.126        -1.515    11.850\n",
      "pay            -0.4942      0.832     -0.594      0.555        -2.168     1.180\n",
      "np.log(pop)    -3.8421      2.261     -1.699      0.096        -8.393     0.709\n",
      "==============================================================================\n",
      "Omnibus:                        0.275   Durbin-Watson:                   2.137\n",
      "Prob(Omnibus):                  0.872   Jarque-Bera (JB):                0.464\n",
      "Skew:                          -0.061   Prob(JB):                        0.793\n",
      "Kurtosis:                       2.549   Cond. No.                         479.\n",
      "==============================================================================\n",
      "\n",
      "Warnings:\n",
      "[1] Standard Errors assume that the covariance matrix of the errors is correctly specified.\n"
     ]
    }
   ],
   "source": [
    "# Define regression model \n",
    "model = smf.ols('SATV ~ percent + dollars + pay + np.log(pop)', data=df)\n",
    "# Fit model\n",
    "results = model.fit()\n",
    "# Inspect results\n",
    "print(results.summary())"
   ]
  },
  {
   "cell_type": "markdown",
   "metadata": {
    "slideshow": {
     "slide_type": "slide"
    }
   },
   "source": [
    "## Resources\n",
    "\n",
    "* Get inspired: [Statsmodels examples](https://www.statsmodels.org/dev/examples/index.html)\n",
    "* Get it done: [Statsmodels documentation](http://www.statsmodels.org/stable/index.html)"
   ]
  }
 ],
 "metadata": {
  "celltoolbar": "Slideshow",
  "kernelspec": {
   "display_name": "Python [default]",
   "language": "python",
   "name": "python3"
  },
  "language_info": {
   "codemirror_mode": {
    "name": "ipython",
    "version": 3
   },
   "file_extension": ".py",
   "mimetype": "text/x-python",
   "name": "python",
   "nbconvert_exporter": "python",
   "pygments_lexer": "ipython3",
   "version": "3.6.3"
  }
 },
 "nbformat": 4,
 "nbformat_minor": 2
}
