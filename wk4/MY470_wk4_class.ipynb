{
 "cells": [
  {
   "cell_type": "markdown",
   "metadata": {
    "slideshow": {
     "slide_type": "slide"
    }
   },
   "source": [
    "### MY470 Computer Programming\n",
    "# Writing and Calling Functions in Python\n",
    "### Week 4 Lab"
   ]
  },
  {
   "cell_type": "markdown",
   "metadata": {
    "slideshow": {
     "slide_type": "slide"
    }
   },
   "source": [
    "## Defining and Calling Functions\n",
    "\n",
    "### Defining a function\n",
    "\n",
    "```\n",
    "def *function_name*(*list of parameters*):\n",
    "    *body of function*\n",
    "```\n",
    "\n",
    "### Calling a function\n",
    "\n",
    "```\n",
    "*function_name*(*arguments*)\n",
    "```\n",
    "\n",
    "### Functions can take 0 or more arguments and return 1 or more values!\n",
    "\n",
    "### If a function does not have `return` statement, it returns `None`"
   ]
  },
  {
   "cell_type": "markdown",
   "metadata": {
    "slideshow": {
     "slide_type": "slide"
    }
   },
   "source": [
    "## Functions Take Arguments by Reference"
   ]
  },
  {
   "cell_type": "code",
   "execution_count": 1,
   "metadata": {
    "slideshow": {
     "slide_type": "-"
    }
   },
   "outputs": [
    {
     "name": "stdout",
     "output_type": "stream",
     "text": [
      "[1, 2, 3, 0]\n"
     ]
    }
   ],
   "source": [
    "def change_list(alist):\n",
    "    alist.append(0)\n",
    "\n",
    "mylist = [1, 2, 3]\n",
    "change_list(mylist)\n",
    "print(mylist)"
   ]
  },
  {
   "cell_type": "code",
   "execution_count": 5,
   "metadata": {
    "scrolled": true,
    "slideshow": {
     "slide_type": "fragment"
    }
   },
   "outputs": [
    {
     "data": {
      "text/plain": [
       "[0, 0, 0]"
      ]
     },
     "execution_count": 5,
     "metadata": {},
     "output_type": "execute_result"
    }
   ],
   "source": [
    "def zero_list(alist):\n",
    "    '''Takes a list and returns another list of the same length \n",
    "    that looks like [0, 0, 0, ...].'''\n",
    "    alist = [0]*len(alist)  # Creates a new local reference for alist\n",
    "    return alist\n",
    "\n",
    "mylist = [1, 2, 3]\n",
    "zero_list(mylist)"
   ]
  },
  {
   "cell_type": "code",
   "execution_count": 3,
   "metadata": {
    "collapsed": true,
    "slideshow": {
     "slide_type": "fragment"
    }
   },
   "outputs": [],
   "source": [
    "# Exercise 1: Rewrite the function definition and call above \n",
    "# to accomplish what the function intends to do.\n",
    "\n",
    "# Done"
   ]
  },
  {
   "cell_type": "markdown",
   "metadata": {
    "slideshow": {
     "slide_type": "slide"
    }
   },
   "source": [
    "## Using Docstrings (String Literals) to Specify Functions\n"
   ]
  },
  {
   "cell_type": "code",
   "execution_count": 4,
   "metadata": {
    "scrolled": true,
    "slideshow": {
     "slide_type": "-"
    }
   },
   "outputs": [
    {
     "name": "stdout",
     "output_type": "stream",
     "text": [
      "Help on function f in module __main__:\n",
      "\n",
      "f(x, y)\n",
      "    Demonstrates the importance of providing specification for functions.\n",
      "    Assumes x and y any type.\n",
      "    Returns nothing.\n",
      "\n"
     ]
    }
   ],
   "source": [
    "def f(x, y):\n",
    "    '''Demonstrates the importance of providing specification for functions.\n",
    "    Assumes x and y any type.\n",
    "    Returns nothing.'''\n",
    "    pass\n",
    "\n",
    "help(f)"
   ]
  },
  {
   "cell_type": "markdown",
   "metadata": {
    "slideshow": {
     "slide_type": "fragment"
    }
   },
   "source": [
    "![Commenting](figs/commenting.jpg \"Commenting\")"
   ]
  },
  {
   "cell_type": "markdown",
   "metadata": {
    "slideshow": {
     "slide_type": "slide"
    }
   },
   "source": [
    "## Using Functions Instead of Copy-Pasting Code"
   ]
  },
  {
   "cell_type": "code",
   "execution_count": 5,
   "metadata": {
    "slideshow": {
     "slide_type": "-"
    }
   },
   "outputs": [
    {
     "name": "stdout",
     "output_type": "stream",
     "text": [
      "Alan Turing was a mathematician.\n",
      "Richard Feynman was a physicist.\n",
      "Marie Curie was a chemist.\n",
      "Charles Darwin was a biologist.\n",
      "Ada Lovelace was a mathematician.\n",
      "Werner Heisenberg was a physicist.\n"
     ]
    }
   ],
   "source": [
    "# Consider the following code:\n",
    "\n",
    "# Print the name and profession of famous dead scientists:\n",
    "print('Alan Turing was a mathematician.')\n",
    "print('Richard Feynman was a physicist.')\n",
    "print('Marie Curie was a chemist.')\n",
    "print('Charles Darwin was a biologist.')\n",
    "print('Ada Lovelace was a mathematician.')\n",
    "print('Werner Heisenberg was a physicist.')"
   ]
  },
  {
   "cell_type": "code",
   "execution_count": 14,
   "metadata": {
    "collapsed": true,
    "slideshow": {
     "slide_type": "-"
    }
   },
   "outputs": [
    {
     "name": "stdout",
     "output_type": "stream",
     "text": [
      "Alan Turing was a mathematician.\n",
      "Richard Feynman was a physicist.\n",
      "Marie Curie was a chemist.\n",
      "Charles Darwin was a biologist.\n",
      "Ada Lovelace was a mathematician.\n",
      "Werner Heisenberg was a physicist.\n"
     ]
    }
   ],
   "source": [
    "# Exercise 2: Rewrite the code using a function and a suitable data structure.\n",
    "\n",
    "scientists = {k:v for k, v in [['Alan Turing', 'mathematician'], ['Richard Feynman', 'physicist'], ['Marie Curie', 'chemist'], ['Charles Darwin', 'biologist'], ['Ada Lovelace', 'mathematician'], ['Werner Heisenberg', 'physicist']]}\n",
    "\n",
    "def print_scientists(dic):\n",
    "    for i, j in dic.items():\n",
    "        print(\"{} was a {}.\".format(i, j))\n",
    "        \n",
    "print_scientists(scientists)"
   ]
  },
  {
   "cell_type": "markdown",
   "metadata": {
    "slideshow": {
     "slide_type": "slide"
    }
   },
   "source": [
    "## Using Functions For General Cases"
   ]
  },
  {
   "cell_type": "code",
   "execution_count": 44,
   "metadata": {
    "collapsed": true,
    "slideshow": {
     "slide_type": "-"
    }
   },
   "outputs": [
    {
     "data": {
      "text/plain": [
       "(False, True)"
      ]
     },
     "execution_count": 44,
     "metadata": {},
     "output_type": "execute_result"
    }
   ],
   "source": [
    "# Exercise 3: Write a Python function that checks if a string \n",
    "# is a palindrome. A palindrome is a word or a phrase that reads \n",
    "# the same backward as forward. For example, redder, nurses run, dad...\n",
    "\n",
    "def isPalindrome(string):\n",
    "    '''Checks whether a string is a palindrome.'''\n",
    "    return string.replace(' ', '') == string.replace(' ', '')[::-1]\n",
    "        \n",
    "\n",
    "isPalindrome(\"vincent\"), isPalindrome(\"nurses run\")"
   ]
  },
  {
   "cell_type": "markdown",
   "metadata": {
    "slideshow": {
     "slide_type": "slide"
    }
   },
   "source": [
    "## Using Functions to Improve Legibility and Modularity"
   ]
  },
  {
   "cell_type": "code",
   "execution_count": 21,
   "metadata": {
    "slideshow": {
     "slide_type": "-"
    }
   },
   "outputs": [
    {
     "name": "stdout",
     "output_type": "stream",
     "text": [
      "8.860022573334675\n"
     ]
    }
   ],
   "source": [
    "# Consider the following code:\n",
    "\n",
    "# You are given two points in 2-D space\n",
    "x = (1, 1)\n",
    "y = (5, 4)\n",
    "\n",
    "# Calculate the area of the circle if one of the points is the circle center \n",
    "# and the other is on the perimeter and then calculate the side of the square \n",
    "# with the same area\n",
    "r_sq = (x[0] - y[0])**2 + (x[1] - y[1])**2\n",
    "area = 3.14*r_sq\n",
    "sq_side = area**0.5\n",
    "print(sq_side)\n"
   ]
  },
  {
   "cell_type": "code",
   "execution_count": 25,
   "metadata": {
    "collapsed": true,
    "slideshow": {
     "slide_type": "-"
    }
   },
   "outputs": [
    {
     "data": {
      "text/plain": [
       "8.860022573334675"
      ]
     },
     "execution_count": 25,
     "metadata": {},
     "output_type": "execute_result"
    }
   ],
   "source": [
    "# Exercise 4: Rewrite the code below using functions \n",
    "# to make it easier to read.\n",
    "\n",
    "def square_side(x, y):\n",
    "    r_sq = (x[0] - y[0])**2 + (x[1] - y[1])**2\n",
    "    area = 3.14*r_sq\n",
    "    sq_side = area**0.5\n",
    "    return sq_side\n",
    "\n",
    "x = (1, 1)\n",
    "y = (5, 4)\n",
    "\n",
    "square_side(x, y)"
   ]
  },
  {
   "cell_type": "markdown",
   "metadata": {
    "slideshow": {
     "slide_type": "slide"
    }
   },
   "source": [
    "## Using Functions Inside List Comprehensions"
   ]
  },
  {
   "cell_type": "code",
   "execution_count": 10,
   "metadata": {
    "slideshow": {
     "slide_type": "-"
    }
   },
   "outputs": [
    {
     "name": "stdout",
     "output_type": "stream",
     "text": [
      "[0.0, 0.25, 1.0, 2.25, 4.0, 6.25, 9.0, 12.25, 16.0, 20.25]\n"
     ]
    }
   ],
   "source": [
    "def square_half(x):\n",
    "    '''Assumes x is numeric. Estimates the square of x/2.'''\n",
    "    return (x/2)**2\n",
    "\n",
    "lst = [square_half(i) for i in range(10)]\n",
    "print(lst)\n"
   ]
  },
  {
   "cell_type": "code",
   "execution_count": 45,
   "metadata": {
    "collapsed": true,
    "slideshow": {
     "slide_type": "-"
    }
   },
   "outputs": [
    {
     "data": {
      "text/plain": [
       "[None, None, 2, 178, None, 12, None, None, 12]"
      ]
     },
     "execution_count": 45,
     "metadata": {},
     "output_type": "execute_result"
    }
   ],
   "source": [
    "# Exercise 5: Using a function and a list comprehension, \n",
    "# create a new list that has the numbers from testlist \n",
    "# if they are positive and None otherwise\n",
    "\n",
    "testlist = [-1, 0, 2, 178, -17.2, 12, -2, -3, 12]\n",
    "\n",
    "def positiveOrNone(x):\n",
    "    if x > 0:\n",
    "        return x\n",
    "    # you don't need to return None (functions do it by default)\n",
    "\n",
    "[positiveOrNone(i) for i in testlist]"
   ]
  },
  {
   "cell_type": "code",
   "execution_count": 46,
   "metadata": {
    "collapsed": true,
    "slideshow": {
     "slide_type": "-"
    }
   },
   "outputs": [
    {
     "data": {
      "text/plain": [
       "[None, 0.0, None, 89.0, -1.4333333333333333, 24.0, None, -12.0, None]"
      ]
     },
     "execution_count": 46,
     "metadata": {},
     "output_type": "execute_result"
    }
   ],
   "source": [
    "# Exercise 6: Using a function and a list comprehension, create \n",
    "# a new list that includes the result from dividing each number \n",
    "# from testlist1 by the corresponding number in testlist2; \n",
    "# For the cases when the divisor is 0, the new list should include None\n",
    "\n",
    "testlist1 = [-1, 0, 2, 178, -17.2, 12, -2, -3, 12]\n",
    "testlist2 = [0, 5, 0, 2, 12, 0.5, 0, 0.25, 0]\n",
    "\n",
    "def divide(x, y):\n",
    "    if y != 0:\n",
    "        return x/y \n",
    "\n",
    "[divide(testlist1[i], testlist2[i]) for i in range(len(testlist1))]"
   ]
  },
  {
   "cell_type": "code",
   "execution_count": null,
   "metadata": {},
   "outputs": [],
   "source": []
  }
 ],
 "metadata": {
  "celltoolbar": "Slideshow",
  "kernelspec": {
   "display_name": "Python 3",
   "language": "python",
   "name": "python3"
  },
  "language_info": {
   "codemirror_mode": {
    "name": "ipython",
    "version": 3
   },
   "file_extension": ".py",
   "mimetype": "text/x-python",
   "name": "python",
   "nbconvert_exporter": "python",
   "pygments_lexer": "ipython3",
   "version": "3.6.5"
  }
 },
 "nbformat": 4,
 "nbformat_minor": 2
}
