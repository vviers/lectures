{
 "cells": [
  {
   "cell_type": "markdown",
   "metadata": {
    "slideshow": {
     "slide_type": "slide"
    }
   },
   "source": [
    "## MY470 Computer Programming\n",
    "# Working with Strings and Lists in Python\n",
    "### Week 2 Lab"
   ]
  },
  {
   "cell_type": "markdown",
   "metadata": {
    "slideshow": {
     "slide_type": "slide"
    }
   },
   "source": [
    "## Variables\n",
    "\n",
    "Variables associate objects (values) with a name. Objects have types (belong to classes).\n",
    "\n",
    "Here are some rules and conventions for naming variables:\n",
    "\n",
    "* Variables must begin with a letter (a - z, A - Z) or underscore (_)\n",
    "* Variables can contain letters, underscore, and numbers"
   ]
  },
  {
   "cell_type": "markdown",
   "metadata": {
    "slideshow": {
     "slide_type": "fragment"
    }
   },
   "source": [
    "* Watch out for reserved words!"
   ]
  },
  {
   "cell_type": "code",
   "execution_count": 1,
   "metadata": {
    "slideshow": {
     "slide_type": "-"
    }
   },
   "outputs": [
    {
     "ename": "SyntaxError",
     "evalue": "invalid syntax (<ipython-input-1-e794f95ceb9a>, line 5)",
     "output_type": "error",
     "traceback": [
      "\u001b[0;36m  File \u001b[0;32m\"<ipython-input-1-e794f95ceb9a>\"\u001b[0;36m, line \u001b[0;32m5\u001b[0m\n\u001b[0;31m    try = 5\u001b[0m\n\u001b[0m        ^\u001b[0m\n\u001b[0;31mSyntaxError\u001b[0m\u001b[0;31m:\u001b[0m invalid syntax\n"
     ]
    }
   ],
   "source": [
    "# List of reserved words in Python: and, as, assert, break, class, continue, def, del, elif, else, except, exec, \n",
    "# finally, for, from, global, if, import, in, is, lambda, not, or, pass, print, raise, return, try, while, with, yield\n",
    "\n",
    "trial = 2\n",
    "try = 5"
   ]
  },
  {
   "cell_type": "markdown",
   "metadata": {
    "slideshow": {
     "slide_type": "slide"
    }
   },
   "source": [
    "## Best Practice\n",
    "\n",
    "* Use **ALLCAPS** for constants, like passwords or secret keys\n",
    "* Use a consistent style, such as **mixedCaseName** or **underscore_name**"
   ]
  },
  {
   "cell_type": "markdown",
   "metadata": {
    "slideshow": {
     "slide_type": "slide"
    }
   },
   "source": [
    "## Resources\n",
    "\n",
    "In addition to the Python resources online, you can query any object to get help on what methods are available\n",
    "\n",
    "Also in Jupyter you can use `dict.<tab>` and `dict.method(<shift> + <tab>)`"
   ]
  },
  {
   "cell_type": "code",
   "execution_count": 11,
   "metadata": {
    "slideshow": {
     "slide_type": "-"
    }
   },
   "outputs": [
    {
     "data": {
      "text/plain": [
       "['__class__',\n",
       " '__contains__',\n",
       " '__delattr__',\n",
       " '__delitem__',\n",
       " '__dir__',\n",
       " '__doc__',\n",
       " '__eq__',\n",
       " '__format__',\n",
       " '__ge__',\n",
       " '__getattribute__',\n",
       " '__getitem__',\n",
       " '__gt__',\n",
       " '__hash__',\n",
       " '__init__',\n",
       " '__init_subclass__',\n",
       " '__iter__',\n",
       " '__le__',\n",
       " '__len__',\n",
       " '__lt__',\n",
       " '__ne__',\n",
       " '__new__',\n",
       " '__reduce__',\n",
       " '__reduce_ex__',\n",
       " '__repr__',\n",
       " '__setattr__',\n",
       " '__setitem__',\n",
       " '__sizeof__',\n",
       " '__str__',\n",
       " '__subclasshook__',\n",
       " 'clear',\n",
       " 'copy',\n",
       " 'fromkeys',\n",
       " 'get',\n",
       " 'items',\n",
       " 'keys',\n",
       " 'pop',\n",
       " 'popitem',\n",
       " 'setdefault',\n",
       " 'update',\n",
       " 'values']"
      ]
     },
     "execution_count": 11,
     "metadata": {},
     "output_type": "execute_result"
    }
   ],
   "source": [
    "dir(dict)\n",
    "help(dict.popitem)"
   ]
  },
  {
   "cell_type": "markdown",
   "metadata": {
    "slideshow": {
     "slide_type": "slide"
    }
   },
   "source": [
    "# Strings\n",
    "\n",
    "* Ordered sequences of characters\n",
    "* Immutable"
   ]
  },
  {
   "cell_type": "code",
   "execution_count": 1,
   "metadata": {
    "slideshow": {
     "slide_type": "-"
    }
   },
   "outputs": [
    {
     "name": "stdout",
     "output_type": "stream",
     "text": [
      "My string\n",
      "s\n",
      "y strin\n",
      "M tig\n"
     ]
    }
   ],
   "source": [
    "x = 'my string'\n",
    "x = x.capitalize()\n",
    "print(x)\n",
    "print(x[3])\n",
    "print(x[1:-1])\n",
    "print(x[::2])"
   ]
  },
  {
   "cell_type": "code",
   "execution_count": 10,
   "metadata": {},
   "outputs": [
    {
     "data": {
      "text/plain": [
       "[1, 4, 7, 10]"
      ]
     },
     "execution_count": 10,
     "metadata": {},
     "output_type": "execute_result"
    }
   ],
   "source": [
    "x = [1, 2, 3, 4, 5, 6, 7, 8, 9, 10]\n",
    "x[::3] # steps of 3"
   ]
  },
  {
   "cell_type": "code",
   "execution_count": 30,
   "metadata": {
    "slideshow": {
     "slide_type": "slide"
    }
   },
   "outputs": [
    {
     "name": "stdout",
     "output_type": "stream",
     "text": [
      "rr ee dd\n"
     ]
    }
   ],
   "source": [
    "# Exercise 1: Make three new strings from the first and last, second and second to last, and\n",
    "# third and third to last letters in the string below. Print the three strings.\n",
    "\n",
    "p = 'redder'\n",
    "\n",
    "s1 = p[::5]\n",
    "s2 = p[1::3]\n",
    "s3 = p[2:4]\n",
    "\n",
    "print(s1, s2, s3)"
   ]
  },
  {
   "cell_type": "code",
   "execution_count": 32,
   "metadata": {
    "slideshow": {
     "slide_type": "-"
    }
   },
   "outputs": [
    {
     "data": {
      "text/plain": [
       "'I canceled my traveling plans.'"
      ]
     },
     "execution_count": 32,
     "metadata": {},
     "output_type": "execute_result"
    }
   ],
   "source": [
    "# Exercise 2: Make a new string that is the same as string1 but with the 8th and 22nd characters missing.\n",
    "\n",
    "string1 = 'I cancelled my travelling plans.'\n",
    "string1[:7] + string1[8:21] + string1[22:]\n",
    "\n"
   ]
  },
  {
   "cell_type": "markdown",
   "metadata": {
    "slideshow": {
     "slide_type": "slide"
    }
   },
   "source": [
    "## String Methods\n",
    "\n",
    "* `S.upper()`\n",
    "* `S.lower()`\n",
    "* `S.capitalize()`\n",
    "* `S.find(S1)`\n",
    "* `S.replace(S1, S2)`\n",
    "* `S.strip(S1)`\n",
    "* `S.split(S1)`\n",
    "* `S.join(L)`"
   ]
  },
  {
   "cell_type": "code",
   "execution_count": 39,
   "metadata": {
    "scrolled": true,
    "slideshow": {
     "slide_type": "slide"
    }
   },
   "outputs": [
    {
     "data": {
      "text/plain": [
       "'This is a very badly formatted string - i would like to make it cleaner.'"
      ]
     },
     "execution_count": 39,
     "metadata": {},
     "output_type": "execute_result"
    }
   ],
   "source": [
    "# Exercise 3: Remove the trailing white space in the string below, replace all double spaces with single space, \n",
    "# and format to a sentence with proper punctuation. Print the resulting string.\n",
    "\n",
    "string1 = '  this  is a very badly.  formatted string -  I would  like to make it cleaner\\n'\n",
    "string1.strip().replace(\"  \", \" \").capitalize().replace(\".\", \"\") + \".\""
   ]
  },
  {
   "cell_type": "markdown",
   "metadata": {
    "slideshow": {
     "slide_type": "slide"
    }
   },
   "source": [
    "## Methods Can Be \"Stringed\"\n",
    "\n",
    "However, be aware that this may reduce the clarity of your code. \n",
    "\n",
    "It is largely a question of code legibility. \n",
    "\n",
    "Except when you are working with large data — it is then also a question of memory."
   ]
  },
  {
   "cell_type": "code",
   "execution_count": 92,
   "metadata": {
    "slideshow": {
     "slide_type": "slide"
    }
   },
   "outputs": [
    {
     "data": {
      "text/plain": [
       "[\"'apple'\", \"'orange'\", \"'pear'\", \"'cherry'\"]"
      ]
     },
     "execution_count": 92,
     "metadata": {},
     "output_type": "execute_result"
    }
   ],
   "source": [
    "# Exercise 4: Convert the string below to a list\n",
    "\n",
    "s = \"['apple', 'orange', 'pear', 'cherry']\"\n",
    "\n",
    "sAsList = [i.replace('[', '').replace(']', '').replace(\"'\", \"\") for i in s.split(\", \")]\n",
    "sAsList\n",
    "\n",
    "\n",
    "# solution from class\n",
    "# s.lstrip(\"[\").rstrip(\"]\").split(\", \")"
   ]
  },
  {
   "cell_type": "code",
   "execution_count": 62,
   "metadata": {
    "slideshow": {
     "slide_type": "-"
    }
   },
   "outputs": [
    {
     "data": {
      "text/plain": [
       "('desserts', 'reward')"
      ]
     },
     "execution_count": 62,
     "metadata": {},
     "output_type": "execute_result"
    }
   ],
   "source": [
    "# Exercise 5: Reverse the strings below.\n",
    "\n",
    "s1 = 'stressed'\n",
    "s2 = 'drawer'\n",
    "\n",
    "s1[::-1], s2[::-1]"
   ]
  },
  {
   "cell_type": "markdown",
   "metadata": {
    "slideshow": {
     "slide_type": "slide"
    }
   },
   "source": [
    "# Lists\n",
    "\n",
    "* Ordered sequence of values\n",
    "* Mutable"
   ]
  },
  {
   "cell_type": "code",
   "execution_count": 64,
   "metadata": {
    "slideshow": {
     "slide_type": "-"
    }
   },
   "outputs": [
    {
     "name": "stdout",
     "output_type": "stream",
     "text": [
      "[1, 2, 3, 4, 5]\n"
     ]
    }
   ],
   "source": [
    "mylist = [1, 2, 3, 4]\n",
    "mylist.append(5)\n",
    "print(mylist)"
   ]
  },
  {
   "cell_type": "markdown",
   "metadata": {
    "slideshow": {
     "slide_type": "slide"
    }
   },
   "source": [
    "## List Methods\n",
    "\n",
    "* `L.append(e)`\n",
    "* `L.extend(L1)`\n",
    "* `L.insert(i, e)`\n",
    "* `L.remove(e)`\n",
    "* `L.pop(i)`\n",
    "* `L.sort()`\n",
    "* `L.reverse()`"
   ]
  },
  {
   "cell_type": "code",
   "execution_count": 66,
   "metadata": {
    "slideshow": {
     "slide_type": "slide"
    }
   },
   "outputs": [
    {
     "data": {
      "text/plain": [
       "['*', '*', '*', '*', '*', '*', '*', '*', '*', '*']"
      ]
     },
     "execution_count": 66,
     "metadata": {},
     "output_type": "execute_result"
    }
   ],
   "source": [
    "# Exercise 6: Use a list operation to create a list of ten elements, each of which is '*'\n",
    "['*'] * 10"
   ]
  },
  {
   "cell_type": "code",
   "execution_count": 99,
   "metadata": {
    "slideshow": {
     "slide_type": "-"
    }
   },
   "outputs": [
    {
     "data": {
      "text/plain": [
       "(['dogs', 'cows', 'rabbits', 'cats'], 'eat', {'grass', 'meat'})"
      ]
     },
     "execution_count": 99,
     "metadata": {},
     "output_type": "execute_result"
    }
   ],
   "source": [
    "# Exercise 7: Assign each of the three elements in the list below to three variables a, b, c\n",
    "ls = [['dogs', 'cows', 'rabbits', 'cats'], 'eat', {'meat', 'grass'}]\n",
    "a, b, c = ls\n",
    "\n",
    "a, b, c"
   ]
  },
  {
   "cell_type": "code",
   "execution_count": 4,
   "metadata": {
    "slideshow": {
     "slide_type": "-"
    }
   },
   "outputs": [
    {
     "data": {
      "text/plain": [
       "[0, 0, 0, [1, 2, 3]]"
      ]
     },
     "execution_count": 4,
     "metadata": {},
     "output_type": "execute_result"
    }
   ],
   "source": [
    "# Exercise 8: Replace the last element in ls1 with ls2\n",
    "ls1 = [0, 0, 0, 1]\n",
    "ls2 = [1, 2, 3]\n",
    "\n",
    "# this does aliasing, we don't want this:\n",
    "# ls1[-1] = ls2\n",
    "\n",
    "ls1[-1] = ls2[:] # better :)\n",
    "ls1"
   ]
  },
  {
   "cell_type": "code",
   "execution_count": 5,
   "metadata": {
    "slideshow": {
     "slide_type": "slide"
    }
   },
   "outputs": [
    {
     "data": {
      "text/plain": [
       "[0, 1, 2, 3, 4, 5, 6, 7, 9]"
      ]
     },
     "execution_count": 5,
     "metadata": {},
     "output_type": "execute_result"
    }
   ],
   "source": [
    "# Exercise 9: Create a new list that contains only unique elements from list x\n",
    "\n",
    "x = [1, 5, 4, 5, 6, 2, 3, 2, 9, 9, 9, 0, 2, 5, 7]\n",
    "list(set(x))"
   ]
  },
  {
   "cell_type": "code",
   "execution_count": 6,
   "metadata": {
    "slideshow": {
     "slide_type": "-"
    }
   },
   "outputs": [
    {
     "data": {
      "text/plain": [
       "{'blue', 'green', 'red'}"
      ]
     },
     "execution_count": 6,
     "metadata": {},
     "output_type": "execute_result"
    }
   ],
   "source": [
    "# Exercise 10: Print the elements that occur both in list a and list b\n",
    "\n",
    "a = ['red', 'orange', 'brown', 'blue', 'purple', 'green']\n",
    "b = ['blue', 'cyan', 'green', 'pink', 'red', 'yellow']\n",
    "\n",
    "set(a) & set(b)"
   ]
  },
  {
   "cell_type": "code",
   "execution_count": 7,
   "metadata": {
    "slideshow": {
     "slide_type": "-"
    }
   },
   "outputs": [
    {
     "name": "stdout",
     "output_type": "stream",
     "text": [
      "2nd smallest: 0.1\n",
      "2nd largest: 6\n"
     ]
    }
   ],
   "source": [
    "# Exercise 11: Print the second smallest and the second largest numbers in this list of unique numbers\n",
    "\n",
    "x = [2, 5, 0.7, 0.2, 0.1, 6, 7, 3, 1, 0, 0.3]\n",
    "x.sort()\n",
    "print(\"2nd smallest: {}\\n2nd largest: {}\".format(x[1], x[-2]))\n"
   ]
  },
  {
   "cell_type": "code",
   "execution_count": 8,
   "metadata": {
    "slideshow": {
     "slide_type": "-"
    }
   },
   "outputs": [
    {
     "name": "stdout",
     "output_type": "stream",
     "text": [
      "[1, 2, 3, 4, 5, 'a', 'b', 'c', 'd']\n"
     ]
    }
   ],
   "source": [
    "# Exercise 12: Create a new list c that contains the elements of list a and b\n",
    "# Watch out for aliasing - you need to avoid it here\n",
    "\n",
    "a = [1, 2, 3, 4, 5]\n",
    "b = ['a', 'b', 'c', 'd']\n",
    "\n",
    "c = a + b\n",
    "print(c)"
   ]
  },
  {
   "cell_type": "markdown",
   "metadata": {
    "slideshow": {
     "slide_type": "slide"
    }
   },
   "source": [
    "## Week 2 Assignment\n",
    "\n",
    "* Practice string and list manipulations\n",
    "* Practice working with data"
   ]
  }
 ],
 "metadata": {
  "celltoolbar": "Slideshow",
  "kernelspec": {
   "display_name": "Python 3",
   "language": "python",
   "name": "python3"
  },
  "language_info": {
   "codemirror_mode": {
    "name": "ipython",
    "version": 3
   },
   "file_extension": ".py",
   "mimetype": "text/x-python",
   "name": "python",
   "nbconvert_exporter": "python",
   "pygments_lexer": "ipython3",
   "version": "3.6.5"
  }
 },
 "nbformat": 4,
 "nbformat_minor": 2
}
