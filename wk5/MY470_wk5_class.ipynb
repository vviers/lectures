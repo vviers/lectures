{
 "cells": [
  {
   "cell_type": "markdown",
   "metadata": {
    "slideshow": {
     "slide_type": "slide"
    }
   },
   "source": [
    "### MY470 Computer Programming\n",
    "# Programming in Teams\n",
    "### Week 5 Lab"
   ]
  },
  {
   "cell_type": "markdown",
   "metadata": {
    "slideshow": {
     "slide_type": "slide"
    }
   },
   "source": [
    "## Suggested Workflow for Prorgamming in Teams\n",
    "\n",
    "1. Use `pass` to outline structure of program\n",
    "* Write class/function specifications\n",
    "* Split the work\n",
    "* Fill in the details\n",
    "* Review each other's code to identify and fix potential problems\n",
    "* Merge\n",
    "* Identify bugs and problems\n",
    "* Repeat 3-7 as necessary"
   ]
  },
  {
   "cell_type": "code",
   "execution_count": 3,
   "metadata": {
    "collapsed": true,
    "slideshow": {
     "slide_type": "-"
    }
   },
   "outputs": [],
   "source": [
    "class MyClass(object):\n",
    "    \n",
    "    def __init__(self):\n",
    "        '''Create a new instance.'''\n",
    "        pass\n",
    "    \n",
    "    def class_methods(self, arg):\n",
    "        pass\n",
    "\n"
   ]
  },
  {
   "cell_type": "markdown",
   "metadata": {
    "slideshow": {
     "slide_type": "slide"
    }
   },
   "source": [
    "## GitHub as a Collaboration Tool\n",
    "\n",
    "1. Clone repository locally\n",
    "* Make changes in cloned repository\n",
    "* Upload new file, **creating a new branch and starting a pull request**\n",
    "*"
   ]
  },
  {
   "cell_type": "markdown",
   "metadata": {
    "slideshow": {
     "slide_type": "slide"
    }
   },
   "source": [
    "## Create a New Branch When Uploading Changed File\n",
    "\n",
    "![Create a new branch](figs/branching.png \"Create a new branch\")"
   ]
  },
  {
   "cell_type": "markdown",
   "metadata": {
    "slideshow": {
     "slide_type": "slide"
    }
   },
   "source": [
    "## Open a Pull Request to Get Feedback (Automatically Directed There)\n",
    "\n",
    "![Open a pull request](figs/pull_request.png \"Open a pull request\")"
   ]
  },
  {
   "cell_type": "markdown",
   "metadata": {
    "slideshow": {
     "slide_type": "slide"
    }
   },
   "source": [
    "## You (and Later Your Partner) Can View Your Changes Highlighted\n",
    "\n",
    "![View changes](figs/changes.png \"View changes\")"
   ]
  },
  {
   "cell_type": "markdown",
   "metadata": {
    "slideshow": {
     "slide_type": "slide"
    }
   },
   "source": [
    "## Wait for Comments from Partner Before Merging\n",
    "\n",
    "![Merge after comments](figs/merge.png \"Merge after comments\")"
   ]
  },
  {
   "cell_type": "markdown",
   "metadata": {
    "slideshow": {
     "slide_type": "slide"
    }
   },
   "source": [
    "## Confirm Merge\n",
    "\n",
    "![Confirm merge](figs/confirm_merge.png \"Confirm merge\")"
   ]
  },
  {
   "cell_type": "markdown",
   "metadata": {
    "slideshow": {
     "slide_type": "slide"
    }
   },
   "source": [
    "## Open Issues to Discuss Problems and Ask Partner for Help\n",
    "\n",
    "![Open a new issue](figs/open_issue.png \"Open a new issue\")"
   ]
  },
  {
   "cell_type": "markdown",
   "metadata": {
    "slideshow": {
     "slide_type": "slide"
    }
   },
   "source": [
    "## Open Issues to Discuss Problems and Ask Partner for Help\n",
    "\n",
    "![Submit new issue](figs/submit_issue.png \"Submit new issue\")"
   ]
  },
  {
   "cell_type": "markdown",
   "metadata": {
    "slideshow": {
     "slide_type": "slide"
    }
   },
   "source": [
    "## Discuss\n",
    "\n",
    "![Discuss](figs/discuss.png \"Discuss\")"
   ]
  },
  {
   "cell_type": "code",
   "execution_count": 13,
   "metadata": {
    "collapsed": true,
    "slideshow": {
     "slide_type": "slide"
    }
   },
   "outputs": [],
   "source": [
    "# Exercise 1: Work with the person next to you to design \n",
    "# classes to manage the products, customers, and purchase \n",
    "# orders for an online book store such as amazon.com. \n",
    "# Outline the data attributes and useful methods for \n",
    "# each class. You can discuss and create the outline together. \n",
    "\n",
    "class Book(object):\n",
    "    \n",
    "    def __init__(self, title, author, language):\n",
    "        self.title = title\n",
    "        self.author = author\n",
    "        self.language = language\n",
    "        self.price = None\n",
    "    \n",
    "    def set_price(self, price, currency):\n",
    "        self.price = currency + str(price)\n",
    "        \n",
    "    def get_author(self):\n",
    "        return self.author\n",
    "        \n",
    "    def __str__(self):\n",
    "        return self.title + ', by ' + self.author + ', in ' + self.language + '. Price is ' + str(self.price )\n",
    "        \n",
    "class Customer(object):\n",
    "    pass\n"
   ]
  },
  {
   "cell_type": "code",
   "execution_count": 15,
   "metadata": {},
   "outputs": [
    {
     "name": "stdout",
     "output_type": "stream",
     "text": [
      "Harry Potter, by JK Rowling, in English. Price is None\n",
      "Harry Potter, by JK Rowling, in English. Price is $12\n",
      "Harry Potter, by JK Rowling, in English. Price is $15\n"
     ]
    },
    {
     "data": {
      "text/plain": [
       "'JK Rowling'"
      ]
     },
     "execution_count": 15,
     "metadata": {},
     "output_type": "execute_result"
    }
   ],
   "source": [
    "mybook = Book('Harry Potter', 'JK Rowling', 'English')\n",
    "print(mybook)\n",
    "\n",
    "mybook.set_price(12, \"$\")\n",
    "print(mybook)\n",
    "\n",
    "mybook.set_price(15, \"$\")\n",
    "print(mybook)\n",
    "\n",
    "mybook.get_author()"
   ]
  },
  {
   "cell_type": "code",
   "execution_count": 11,
   "metadata": {
    "collapsed": true,
    "slideshow": {
     "slide_type": "-"
    }
   },
   "outputs": [],
   "source": [
    "# Exercise 2: Create a new repository in your account and upload \n",
    "# the class hierarchy you created. Practice cloning locally, \n",
    "# making changes, and uploading the changed file to your remote \n",
    "# repository by creating a branch and opening a pull request. \n",
    "# (Note that in order for others to be able to upload files \n",
    "# to your repository, you need to grant them push access.)"
   ]
  },
  {
   "cell_type": "code",
   "execution_count": 12,
   "metadata": {
    "collapsed": true,
    "slideshow": {
     "slide_type": "-"
    }
   },
   "outputs": [],
   "source": [
    "# Exercise 3: Open a new issue in your partner's repository. \n",
    "# (Note that you don't need push access to open issues.)"
   ]
  },
  {
   "cell_type": "code",
   "execution_count": null,
   "metadata": {},
   "outputs": [],
   "source": []
  }
 ],
 "metadata": {
  "celltoolbar": "Slideshow",
  "kernelspec": {
   "display_name": "Python 3",
   "language": "python",
   "name": "python3"
  },
  "language_info": {
   "codemirror_mode": {
    "name": "ipython",
    "version": 3
   },
   "file_extension": ".py",
   "mimetype": "text/x-python",
   "name": "python",
   "nbconvert_exporter": "python",
   "pygments_lexer": "ipython3",
   "version": "3.6.5"
  }
 },
 "nbformat": 4,
 "nbformat_minor": 2
}
