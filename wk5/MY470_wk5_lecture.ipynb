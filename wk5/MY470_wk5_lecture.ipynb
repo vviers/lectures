{
 "cells": [
  {
   "cell_type": "markdown",
   "metadata": {
    "slideshow": {
     "slide_type": "slide"
    }
   },
   "source": [
    "### MY470 Computer Programming\n",
    "# Classes in Python\n",
    "### Week 5 Lecture"
   ]
  },
  {
   "cell_type": "markdown",
   "metadata": {
    "slideshow": {
     "slide_type": "slide"
    }
   },
   "source": [
    "## Overview\n",
    "\n",
    "* Object-oriented programming\n",
    "* Classes\n",
    "* Class inheritance and polymorphism\n",
    "* Encapsulation and information hiding\n",
    "* Generators\n",
    "* Team formation for Assignment 5\n",
    "---\n",
    "* Useful Python package: `networkx`"
   ]
  },
  {
   "cell_type": "markdown",
   "metadata": {
    "slideshow": {
     "slide_type": "slide"
    }
   },
   "source": [
    "## From Last Week: Decomposition and Abstraction\n",
    "\n",
    "* Decomposition creates structure\n",
    "* Abstraction hides detail\n",
    "\n",
    "![Decomposition and abstraction](figs/decomposition_abstraction.png \"Decomposition and abstraction\")"
   ]
  },
  {
   "cell_type": "markdown",
   "metadata": {
    "slideshow": {
     "slide_type": "slide"
    }
   },
   "source": [
    "## Achieving Decomposition and Abstraction\n",
    "\n",
    "* With functions\n",
    "* With **classes**"
   ]
  },
  {
   "cell_type": "markdown",
   "metadata": {
    "slideshow": {
     "slide_type": "slide"
    }
   },
   "source": [
    "## From Week 2: Objects\n",
    "\n",
    "### Python supports many different kinds of objects\n",
    "\n",
    "* `25`, `'LSE'`, `[1, 2, 7, 0]`, `range(10)` "
   ]
  },
  {
   "cell_type": "markdown",
   "metadata": {
    "slideshow": {
     "slide_type": "fragment"
    }
   },
   "source": [
    "### In fact, EVERYTHING in Python is an object\n",
    "\n",
    "* Objects have types (belong to classes)\n",
    "* Objects also have a set of procedures for interacting with them (methods)"
   ]
  },
  {
   "cell_type": "code",
   "execution_count": 1,
   "metadata": {
    "slideshow": {
     "slide_type": "-"
    }
   },
   "outputs": [
    {
     "name": "stdout",
     "output_type": "stream",
     "text": [
      "<class 'str'>\n",
      "SOME STRING\n"
     ]
    }
   ],
   "source": [
    "s = 'some string'\n",
    "print(type(s))\n",
    "print(s.upper())"
   ]
  },
  {
   "cell_type": "markdown",
   "metadata": {
    "slideshow": {
     "slide_type": "slide"
    }
   },
   "source": [
    "## Object-Oriented Programming\n",
    "\n",
    "A programming paradigm based on the concept of \"objects\"\n",
    "\n",
    "An object is a **data abstraction** that captures:\n",
    "\n",
    "* **Internal representation** (data attributes)\n",
    "* **Interface** for interacting with object (methods)\n"
   ]
  },
  {
   "cell_type": "markdown",
   "metadata": {
    "slideshow": {
     "slide_type": "slide"
    }
   },
   "source": [
    "## Procedural  vs. Object-Oriented Programming\n",
    "\n",
    "![Procedural vs. object-oriented programming](figs/procedural_object-oriented.png \"Procedural vs. object-oriented programming\")"
   ]
  },
  {
   "cell_type": "markdown",
   "metadata": {
    "slideshow": {
     "slide_type": "slide"
    }
   },
   "source": [
    "## Abstraction\n",
    "\n",
    "![Abstraction in science](figs/science_abstraction.png \"Abstraction in science\")"
   ]
  },
  {
   "cell_type": "markdown",
   "metadata": {
    "slideshow": {
     "slide_type": "slide"
    }
   },
   "source": [
    "## Data Abstraction With Classes\n"
   ]
  },
  {
   "cell_type": "code",
   "execution_count": 5,
   "metadata": {
    "slideshow": {
     "slide_type": "-"
    }
   },
   "outputs": [
    {
     "name": "stdout",
     "output_type": "stream",
     "text": [
      "Malala Yousafzai 21\n"
     ]
    }
   ],
   "source": [
    "from datetime import date\n",
    "\n",
    "class Person(object): # python convention: Capitalise Class names\n",
    "    #        ^ : \"We extend the superclass 'object' \"\n",
    "        \n",
    "    def __init__(self, f_name, l_name):             # instantiate a new instance of the object \n",
    "        'Creates a person using first and last names.'\n",
    "        self.first_name = f_name\n",
    "        self.last_name = l_name\n",
    "        self.birthdate = None # Not required from the begining\n",
    "    \n",
    "    def get_name(self):\n",
    "        '''Gets self\\'s full name.'''\n",
    "        return self.first_name + ' ' + self.last_name\n",
    "    \n",
    "    def get_age(self):\n",
    "        '''Gets self\\'s age in years.'''\n",
    "        return date.today().year - self.birthdate.year\n",
    "    \n",
    "    def set_birthdate(self, dob):\n",
    "        '''Assumes dob is of type date.\n",
    "        Sets self\\'s birthdate to dob.'''\n",
    "        self.birthdate = dob\n",
    "    \n",
    "    #def __str__(self):\n",
    "    #    '''Returns self's full name.'''\n",
    "    #    return self.first_name + ' ' + self.last_name\n",
    "    \n",
    "    def __str__(self):\n",
    "        '''Returns self's full name.'''\n",
    "        return self.get_name() # also possible\n",
    "    \n",
    "p1 = Person('Malala', 'Yousafzai')\n",
    "p1.set_birthdate(date(1997, 7, 12))\n",
    "print(p1, p1.get_age())"
   ]
  },
  {
   "cell_type": "code",
   "execution_count": 10,
   "metadata": {},
   "outputs": [
    {
     "ename": "AttributeError",
     "evalue": "'NoneType' object has no attribute 'year'",
     "output_type": "error",
     "traceback": [
      "\u001b[0;31m---------------------------------------------------------------------------\u001b[0m",
      "\u001b[0;31mAttributeError\u001b[0m                            Traceback (most recent call last)",
      "\u001b[0;32m<ipython-input-10-3d643e6b9cc5>\u001b[0m in \u001b[0;36m<module>\u001b[0;34m()\u001b[0m\n\u001b[1;32m      1\u001b[0m \u001b[0mp2\u001b[0m \u001b[0;34m=\u001b[0m \u001b[0mPerson\u001b[0m\u001b[0;34m(\u001b[0m\u001b[0;34m'Albert'\u001b[0m\u001b[0;34m,\u001b[0m \u001b[0;34m'Einstein'\u001b[0m\u001b[0;34m)\u001b[0m\u001b[0;34m\u001b[0m\u001b[0m\n\u001b[0;32m----> 2\u001b[0;31m \u001b[0mp2\u001b[0m\u001b[0;34m.\u001b[0m\u001b[0mget_age\u001b[0m\u001b[0;34m(\u001b[0m\u001b[0;34m)\u001b[0m\u001b[0;34m\u001b[0m\u001b[0m\n\u001b[0m",
      "\u001b[0;32m<ipython-input-5-3a38dbbad422>\u001b[0m in \u001b[0;36mget_age\u001b[0;34m(self)\u001b[0m\n\u001b[1;32m     15\u001b[0m     \u001b[0;32mdef\u001b[0m \u001b[0mget_age\u001b[0m\u001b[0;34m(\u001b[0m\u001b[0mself\u001b[0m\u001b[0;34m)\u001b[0m\u001b[0;34m:\u001b[0m\u001b[0;34m\u001b[0m\u001b[0m\n\u001b[1;32m     16\u001b[0m         \u001b[0;34m'''Gets self\\'s age in years.'''\u001b[0m\u001b[0;34m\u001b[0m\u001b[0m\n\u001b[0;32m---> 17\u001b[0;31m         \u001b[0;32mreturn\u001b[0m \u001b[0mdate\u001b[0m\u001b[0;34m.\u001b[0m\u001b[0mtoday\u001b[0m\u001b[0;34m(\u001b[0m\u001b[0;34m)\u001b[0m\u001b[0;34m.\u001b[0m\u001b[0myear\u001b[0m \u001b[0;34m-\u001b[0m \u001b[0mself\u001b[0m\u001b[0;34m.\u001b[0m\u001b[0mbirthdate\u001b[0m\u001b[0;34m.\u001b[0m\u001b[0myear\u001b[0m\u001b[0;34m\u001b[0m\u001b[0m\n\u001b[0m\u001b[1;32m     18\u001b[0m \u001b[0;34m\u001b[0m\u001b[0m\n\u001b[1;32m     19\u001b[0m     \u001b[0;32mdef\u001b[0m \u001b[0mset_birthdate\u001b[0m\u001b[0;34m(\u001b[0m\u001b[0mself\u001b[0m\u001b[0;34m,\u001b[0m \u001b[0mdob\u001b[0m\u001b[0;34m)\u001b[0m\u001b[0;34m:\u001b[0m\u001b[0;34m\u001b[0m\u001b[0m\n",
      "\u001b[0;31mAttributeError\u001b[0m: 'NoneType' object has no attribute 'year'"
     ]
    }
   ],
   "source": [
    "p2 = Person('Albert', 'Einstein')\n",
    "p2.get_age()"
   ]
  },
  {
   "cell_type": "markdown",
   "metadata": {
    "slideshow": {
     "slide_type": "slide"
    }
   },
   "source": [
    "## Classes in Python\n",
    "\n",
    "* Data attributes — `first_name`, `last_name`, `birthdate`\n",
    "* Methods\n",
    "  * `get_name()`, `get_age()`, `set_birthdate()`\n",
    "  * `__init__()` — called when a class is instantiated\n",
    "  * `__str__()` — called by `print()` and `str()`\n",
    "  \n",
    "---\n",
    "\n",
    "* Operations\n",
    "  * Instantiation: `p1 = Person('Malala', 'Yousafzai')` calls method `__init__()`\n",
    "  * Attribute/method reference: `p1.get_age()`"
   ]
  },
  {
   "cell_type": "markdown",
   "metadata": {
    "slideshow": {
     "slide_type": "slide"
    }
   },
   "source": [
    "## Classes vs. Objects\n",
    "\n",
    "* `Person` is a class\n",
    "* `p1` is an instance of the class `Person`; it is an object of type `Person`\n",
    "* Similarly, `str` is a class and `'Malala Yousafzai'` is an object of type `str`\n",
    "\n",
    "![Class vs. object](figs/person_malala.png \"Class vs. object\")\n",
    "\n",
    "Images from: Adrien Coquet and Simon Davis/DFID\n",
    "\n"
   ]
  },
  {
   "cell_type": "markdown",
   "metadata": {
    "slideshow": {
     "slide_type": "slide"
    }
   },
   "source": [
    "## `self`\n",
    "\n",
    "```\n",
    "def set_birthdate(self, dob):\n",
    "    self.birthdate = dob\n",
    "```"
   ]
  },
  {
   "cell_type": "markdown",
   "metadata": {
    "slideshow": {
     "slide_type": "-"
    }
   },
   "source": [
    "* Variable that references the current instance of the class\n",
    "* The name is a convention\n",
    "* It's a *strong* convention — **Do not use any other variable name!**"
   ]
  },
  {
   "cell_type": "markdown",
   "metadata": {
    "slideshow": {
     "slide_type": "slide"
    }
   },
   "source": [
    "## Class Operations: Method Reference\n",
    "\n",
    "```\n",
    "def get_age(self):\n",
    "    return date.today().year - self.birthdate.year\n",
    "```"
   ]
  },
  {
   "cell_type": "markdown",
   "metadata": {
    "slideshow": {
     "slide_type": "-"
    }
   },
   "source": [
    "* Methods are functions that are associated with a class\n",
    "* Two ways to call methods:\n",
    "  * `p1.get_age()`  **— Use this one!**\n",
    "  * `Person.get_age(p1)`"
   ]
  },
  {
   "cell_type": "markdown",
   "metadata": {
    "slideshow": {
     "slide_type": "slide"
    }
   },
   "source": [
    "## Special Methods\n",
    "\n",
    "* `__init__()` — called when a class is instantiated\n",
    "* `__str__()` — called by `print()` and `str()`\n",
    "\n",
    "#### Can be redifined for the purpose of your specific class\n",
    "\n",
    "* `__lt__()` — overloads the `<` operator\n",
    "* `__le__()` — overloads the `<=` operator\n",
    "* `__eq__()` — overloads the `==` operator\n",
    "* `__ne__()` — overloads the `!=` operator (defaults to opposite of `__eq__()`)\n",
    "* `__gt__()` — overloads the `>` operator\n",
    "* `__ge__()` — overloads the `>=` operator"
   ]
  },
  {
   "cell_type": "markdown",
   "metadata": {
    "slideshow": {
     "slide_type": "fragment"
    }
   },
   "source": [
    "### Overloading provides access to other methods defined using the methods above\n",
    "\n",
    "* E.g. `sort()`"
   ]
  },
  {
   "cell_type": "code",
   "execution_count": 2,
   "metadata": {
    "slideshow": {
     "slide_type": "slide"
    }
   },
   "outputs": [
    {
     "name": "stdout",
     "output_type": "stream",
     "text": [
      "False\n",
      "['Robert Webb', 'Malala Yousafzai']\n"
     ]
    }
   ],
   "source": [
    "class Person(object):\n",
    "        \n",
    "    def __init__(self, f_name, l_name):\n",
    "        'Creates a person using first and last names.'\n",
    "        self.first_name = f_name\n",
    "        self.last_name = l_name\n",
    "        self.birthdate = None\n",
    "    \n",
    "    def get_name(self):\n",
    "        '''Gets self\\'s full name.'''\n",
    "        return self.first_name + ' ' + self.last_name\n",
    "    \n",
    "    def get_age(self):\n",
    "        '''Gets self\\'s age in years.'''\n",
    "        return date.today().year - self.birthdate.year\n",
    "    \n",
    "    def set_birthdate(self, dob):\n",
    "        '''Assumes dob is of type date.\n",
    "        Sets self\\'s birthdate to dob.'''\n",
    "        self.birthdate = dob\n",
    "    \n",
    "    def __str__(self):\n",
    "        '''Returns self's full name.'''\n",
    "        return self.first_name + ' ' + self.last_name\n",
    "    \n",
    "    def __lt__(self, other):\n",
    "        '''Returns True if self\\'s last name precedes other\\'s last name\n",
    "        in alphabethical order. If they are equal, compares first names.'''\n",
    "        if self.last_name==other.last_name:\n",
    "            return self.first_name < other.first_name\n",
    "        return self.last_name < other.last_name\n",
    "    \n",
    "p1 = Person('Malala', 'Yousafzai')\n",
    "p2 = Person('Robert', 'Webb')\n",
    "print(p1 < p2)\n",
    "\n",
    "lst = sorted([p1, p2])\n",
    "print([str(i) for i in lst])"
   ]
  },
  {
   "cell_type": "markdown",
   "metadata": {
    "slideshow": {
     "slide_type": "slide"
    }
   },
   "source": [
    "## Class Operations: Attribute Reference\n",
    "\n",
    "```\n",
    "def __init__(self, f_name, l_name):\n",
    "    self.first_name = f_name\n",
    "    self.last_name = l_name\n",
    "    self.birthdate = None\n",
    "```"
   ]
  },
  {
   "cell_type": "markdown",
   "metadata": {
    "slideshow": {
     "slide_type": "fragment"
    }
   },
   "source": [
    "### In Python, you have direct access to instance attributes but you shouldn't use it\n",
    "\n",
    "  * `p1.first_name`  **<— DO NOT EVER USE THIS ONE!** \n",
    "  * `p1.get_name()`  **<— Use this one instead**"
   ]
  },
  {
   "cell_type": "code",
   "execution_count": 3,
   "metadata": {
    "slideshow": {
     "slide_type": "-"
    }
   },
   "outputs": [
    {
     "data": {
      "text/plain": [
       "'Malala'"
      ]
     },
     "execution_count": 3,
     "metadata": {},
     "output_type": "execute_result"
    }
   ],
   "source": [
    "p1.get_name().split()[0]  # Or write a new method get_first_name()"
   ]
  },
  {
   "cell_type": "markdown",
   "metadata": {
    "slideshow": {
     "slide_type": "fragment"
    }
   },
   "source": [
    "Using methods to get instance attributes is essential for encapsulation and information hiding — two important goals of object-oriented programming."
   ]
  },
  {
   "cell_type": "markdown",
   "metadata": {
    "slideshow": {
     "slide_type": "slide"
    }
   },
   "source": [
    "## Inheritance\n",
    "\n",
    "> **Q:** *What's the object-oriented way to become wealthy?*\n",
    "\n",
    "> **A:** *Inheritance.*"
   ]
  },
  {
   "cell_type": "markdown",
   "metadata": {
    "slideshow": {
     "slide_type": "slide"
    }
   },
   "source": [
    "## Inheritance\n",
    "\n",
    "* Allows to build hierarchies of related abstractions\n",
    "* **Subclasses** inherit data attributes and methods from their **superclasses** (classes that are higher in the hierarchy)\n",
    "* On top of the hierarchy is class `object`\n",
    "* Subclasses can:\n",
    "  * Add new data attributes and methods\n",
    "  * Override data attributes and methods of the superclass"
   ]
  },
  {
   "cell_type": "markdown",
   "metadata": {
    "slideshow": {
     "slide_type": "slide"
    }
   },
   "source": [
    "## Subclasses "
   ]
  },
  {
   "cell_type": "code",
   "execution_count": 4,
   "metadata": {
    "slideshow": {
     "slide_type": "-"
    }
   },
   "outputs": [
    {
     "name": "stdout",
     "output_type": "stream",
     "text": [
      "Milena Tsvetkova 1\n",
      "Pablo Barbera 2\n",
      "True\n",
      "False\n"
     ]
    }
   ],
   "source": [
    "class LSEPerson(Person):\n",
    "    # LSEPerson is a subclass of Person which itself is a subclass of object\n",
    "    \n",
    "    # This is a class variable\n",
    "    next_id_num = 1 # unique identification number\n",
    "        \n",
    "    def __init__(self, f_name, l_name):\n",
    "        'Creates an LSE person using first and last names.'\n",
    "        Person.__init__(self, f_name, l_name)\n",
    "        self.id_num = LSEPerson.next_id_num\n",
    "        LSEPerson.next_id_num += 1\n",
    "    \n",
    "    def get_id_num(self):\n",
    "        '''Gets self\\'s unique LSE number.'''\n",
    "        return self.id_num\n",
    "    \n",
    "    def __lt__(self, other):\n",
    "        '''Returns True if self\\'s id number is smaller than other\\'s id number.'''\n",
    "        return self.id_num < other.id_num\n",
    "\n",
    "staff1 = LSEPerson('Milena', 'Tsvetkova')\n",
    "print(staff1, staff1.get_id_num())\n",
    "\n",
    "staff2 = LSEPerson('Pablo', 'Barbera')\n",
    "print(staff2, staff2.get_id_num())\n",
    "\n",
    "print(staff1 < staff2)\n",
    "print(p1 < staff1)\n",
    "# print(staff1 < p1) # doesn't work because looks at staff1 first and uses the LSEPerson definition of <"
   ]
  },
  {
   "cell_type": "code",
   "execution_count": 5,
   "metadata": {},
   "outputs": [
    {
     "data": {
      "text/plain": [
       "[__main__.LSEPerson, __main__.Person, object]"
      ]
     },
     "execution_count": 5,
     "metadata": {},
     "output_type": "execute_result"
    }
   ],
   "source": [
    "LSEPerson.mro()"
   ]
  },
  {
   "cell_type": "markdown",
   "metadata": {
    "slideshow": {
     "slide_type": "slide"
    }
   },
   "source": [
    "## Polymorphism\n",
    "\n",
    "* An expression can do different things depending on the objects it applies to\n",
    "* Enabled by overriding inherited methods\n",
    "* Helps reduce code"
   ]
  },
  {
   "cell_type": "markdown",
   "metadata": {
    "slideshow": {
     "slide_type": "slide"
    }
   },
   "source": [
    "## Inheritance Hierarchies "
   ]
  },
  {
   "cell_type": "code",
   "execution_count": 7,
   "metadata": {
    "slideshow": {
     "slide_type": "-"
    }
   },
   "outputs": [
    {
     "name": "stdout",
     "output_type": "stream",
     "text": [
      "<class '__main__.Acad'>\n",
      "True\n",
      "True\n",
      "True\n",
      "False\n"
     ]
    }
   ],
   "source": [
    "class Staff(LSEPerson):\n",
    "    pass\n",
    "\n",
    "class Admin(Staff):\n",
    "    pass\n",
    "\n",
    "class Acad(Staff):\n",
    "    pass\n",
    "\n",
    "class Student(LSEPerson):\n",
    "    pass\n",
    "\n",
    "class Undergrad(Student):\n",
    "    pass\n",
    "\n",
    "class Grad(Student):\n",
    "    pass\n",
    "    \n",
    "prof1 = Acad('Angelina', 'Jolie')\n",
    "\n",
    "print(type(prof1))\n",
    "print(isinstance(prof1, Acad))\n",
    "print(isinstance(prof1, Staff))\n",
    "print(isinstance(prof1, Person))\n",
    "print(isinstance(prof1, Student))\n",
    "\n",
    "prof1.set_birthdate"
   ]
  },
  {
   "cell_type": "markdown",
   "metadata": {
    "slideshow": {
     "slide_type": "slide"
    }
   },
   "source": [
    "## Encapsulation and Information Hiding\n",
    "\n",
    "![Encapsulation and infromation hiding](figs/encapsulation.png \"Encapsulation and infromation hiding\")\n",
    "\n",
    "### Encapsulation\n",
    "\n",
    "* The bundling of data attributes and the methods for operating on them\n",
    "\n",
    "### Information hiding\n",
    "\n",
    "* Allows changing the class definition without affecting its external behavior\n",
    "\n",
    "### Encapsulation and information hiding keep class attributes and methods safe from outside interference and misuse.\n"
   ]
  },
  {
   "cell_type": "markdown",
   "metadata": {
    "slideshow": {
     "slide_type": "slide"
    }
   },
   "source": [
    "## Information Hiding in Python\n",
    "\n",
    "* Use naming conventions to make data attributes and methods invisible outside the class\n",
    "* Convention: Begin name with `__` but do not end with it"
   ]
  },
  {
   "cell_type": "code",
   "execution_count": 36,
   "metadata": {
    "slideshow": {
     "slide_type": "-"
    }
   },
   "outputs": [],
   "source": [
    "class InfoHiding(object):\n",
    "    def __init__(self):\n",
    "        self.visible = 'Look at me'\n",
    "        self.__visible__ = 'Look at me too'\n",
    "        self.__invisible = 'Do not look at me directly'\n",
    "        \n",
    "    def print_visible(self):\n",
    "        print(self.visible)\n",
    "    \n",
    "    def print_invisible(self):\n",
    "        print(self.__invisible)\n",
    "        \n",
    "    def __invisible_print_invisible(self):\n",
    "        print(self.__invisible)\n",
    "        \n",
    "    def __visible_print_invisible__(self):\n",
    "        print(self.__invisible)\n",
    "\n",
    "test = InfoHiding()"
   ]
  },
  {
   "cell_type": "code",
   "execution_count": 37,
   "metadata": {
    "slideshow": {
     "slide_type": "-"
    }
   },
   "outputs": [
    {
     "name": "stdout",
     "output_type": "stream",
     "text": [
      "Look at me\n",
      "Look at me too\n"
     ]
    },
    {
     "ename": "AttributeError",
     "evalue": "'InfoHiding' object has no attribute '__invisible'",
     "output_type": "error",
     "traceback": [
      "\u001b[0;31m---------------------------------------------------------------------------\u001b[0m",
      "\u001b[0;31mAttributeError\u001b[0m                            Traceback (most recent call last)",
      "\u001b[0;32m<ipython-input-37-a65813a9422a>\u001b[0m in \u001b[0;36m<module>\u001b[0;34m()\u001b[0m\n\u001b[1;32m      1\u001b[0m \u001b[0mprint\u001b[0m\u001b[0;34m(\u001b[0m\u001b[0mtest\u001b[0m\u001b[0;34m.\u001b[0m\u001b[0mvisible\u001b[0m\u001b[0;34m)\u001b[0m\u001b[0;34m\u001b[0m\u001b[0m\n\u001b[1;32m      2\u001b[0m \u001b[0mprint\u001b[0m\u001b[0;34m(\u001b[0m\u001b[0mtest\u001b[0m\u001b[0;34m.\u001b[0m\u001b[0m__visible__\u001b[0m\u001b[0;34m)\u001b[0m\u001b[0;34m\u001b[0m\u001b[0m\n\u001b[0;32m----> 3\u001b[0;31m \u001b[0mprint\u001b[0m\u001b[0;34m(\u001b[0m\u001b[0mtest\u001b[0m\u001b[0;34m.\u001b[0m\u001b[0m__invisible\u001b[0m\u001b[0;34m)\u001b[0m\u001b[0;34m\u001b[0m\u001b[0m\n\u001b[0m",
      "\u001b[0;31mAttributeError\u001b[0m: 'InfoHiding' object has no attribute '__invisible'"
     ]
    }
   ],
   "source": [
    "print(test.visible)\n",
    "print(test.__visible__)\n",
    "print(test.__invisible)"
   ]
  },
  {
   "cell_type": "code",
   "execution_count": 16,
   "metadata": {
    "slideshow": {
     "slide_type": "-"
    }
   },
   "outputs": [
    {
     "name": "stdout",
     "output_type": "stream",
     "text": [
      "Look at me\n",
      "Do not look at me directly\n",
      "Do not look at me directly\n"
     ]
    },
    {
     "ename": "AttributeError",
     "evalue": "'InfoHiding' object has no attribute '__invisible_print_invisible'",
     "output_type": "error",
     "traceback": [
      "\u001b[0;31m---------------------------------------------------------------------------\u001b[0m",
      "\u001b[0;31mAttributeError\u001b[0m                            Traceback (most recent call last)",
      "\u001b[0;32m<ipython-input-16-bbce7b1bc4db>\u001b[0m in \u001b[0;36m<module>\u001b[0;34m()\u001b[0m\n\u001b[1;32m      2\u001b[0m \u001b[0mtest\u001b[0m\u001b[0;34m.\u001b[0m\u001b[0mprint_invisible\u001b[0m\u001b[0;34m(\u001b[0m\u001b[0;34m)\u001b[0m\u001b[0;34m\u001b[0m\u001b[0m\n\u001b[1;32m      3\u001b[0m \u001b[0mtest\u001b[0m\u001b[0;34m.\u001b[0m\u001b[0m__visible_print_invisible__\u001b[0m\u001b[0;34m(\u001b[0m\u001b[0;34m)\u001b[0m\u001b[0;34m\u001b[0m\u001b[0m\n\u001b[0;32m----> 4\u001b[0;31m \u001b[0mtest\u001b[0m\u001b[0;34m.\u001b[0m\u001b[0m__invisible_print_invisible\u001b[0m\u001b[0;34m(\u001b[0m\u001b[0;34m)\u001b[0m\u001b[0;34m\u001b[0m\u001b[0m\n\u001b[0m",
      "\u001b[0;31mAttributeError\u001b[0m: 'InfoHiding' object has no attribute '__invisible_print_invisible'"
     ]
    }
   ],
   "source": [
    "test.print_visible()\n",
    "test.print_invisible()\n",
    "test.__visible_print_invisible__()\n",
    "test.__invisible_print_invisible()\n"
   ]
  },
  {
   "cell_type": "markdown",
   "metadata": {
    "slideshow": {
     "slide_type": "slide"
    }
   },
   "source": [
    "## Information Hiding and Subclasses"
   ]
  },
  {
   "cell_type": "code",
   "execution_count": 17,
   "metadata": {
    "slideshow": {
     "slide_type": "-"
    }
   },
   "outputs": [
    {
     "ename": "AttributeError",
     "evalue": "'SubClass' object has no attribute '_SubClass__invisible'",
     "output_type": "error",
     "traceback": [
      "\u001b[0;31m---------------------------------------------------------------------------\u001b[0m",
      "\u001b[0;31mAttributeError\u001b[0m                            Traceback (most recent call last)",
      "\u001b[0;32m<ipython-input-17-b223680b57bf>\u001b[0m in \u001b[0;36m<module>\u001b[0;34m()\u001b[0m\n\u001b[1;32m      4\u001b[0m         \u001b[0mprint\u001b[0m\u001b[0;34m(\u001b[0m\u001b[0mself\u001b[0m\u001b[0;34m.\u001b[0m\u001b[0m__invisible\u001b[0m\u001b[0;34m)\u001b[0m\u001b[0;34m\u001b[0m\u001b[0m\n\u001b[1;32m      5\u001b[0m \u001b[0;34m\u001b[0m\u001b[0m\n\u001b[0;32m----> 6\u001b[0;31m \u001b[0msub_test\u001b[0m \u001b[0;34m=\u001b[0m \u001b[0mSubClass\u001b[0m\u001b[0;34m(\u001b[0m\u001b[0;34m)\u001b[0m\u001b[0;34m\u001b[0m\u001b[0m\n\u001b[0m",
      "\u001b[0;32m<ipython-input-17-b223680b57bf>\u001b[0m in \u001b[0;36m__init__\u001b[0;34m(self)\u001b[0m\n\u001b[1;32m      2\u001b[0m     \u001b[0;32mdef\u001b[0m \u001b[0m__init__\u001b[0m\u001b[0;34m(\u001b[0m\u001b[0mself\u001b[0m\u001b[0;34m)\u001b[0m\u001b[0;34m:\u001b[0m\u001b[0;34m\u001b[0m\u001b[0m\n\u001b[1;32m      3\u001b[0m         \u001b[0mInfoHiding\u001b[0m\u001b[0;34m.\u001b[0m\u001b[0m__init__\u001b[0m\u001b[0;34m(\u001b[0m\u001b[0mself\u001b[0m\u001b[0;34m)\u001b[0m\u001b[0;34m\u001b[0m\u001b[0m\n\u001b[0;32m----> 4\u001b[0;31m         \u001b[0mprint\u001b[0m\u001b[0;34m(\u001b[0m\u001b[0mself\u001b[0m\u001b[0;34m.\u001b[0m\u001b[0m__invisible\u001b[0m\u001b[0;34m)\u001b[0m\u001b[0;34m\u001b[0m\u001b[0m\n\u001b[0m\u001b[1;32m      5\u001b[0m \u001b[0;34m\u001b[0m\u001b[0m\n\u001b[1;32m      6\u001b[0m \u001b[0msub_test\u001b[0m \u001b[0;34m=\u001b[0m \u001b[0mSubClass\u001b[0m\u001b[0;34m(\u001b[0m\u001b[0;34m)\u001b[0m\u001b[0;34m\u001b[0m\u001b[0m\n",
      "\u001b[0;31mAttributeError\u001b[0m: 'SubClass' object has no attribute '_SubClass__invisible'"
     ]
    }
   ],
   "source": [
    "class SubClass(InfoHiding):\n",
    "    def __init__(self):\n",
    "        InfoHiding.__init__(self)\n",
    "        print(self.__invisible)\n",
    "\n",
    "sub_test = SubClass()"
   ]
  },
  {
   "cell_type": "markdown",
   "metadata": {
    "slideshow": {
     "slide_type": "slide"
    }
   },
   "source": [
    "## In Practice, Information Hiding Convention in Python Is Rarely Used \n",
    "\n",
    "* Without it users may rely on attributes that are not necessarily part of the specification of the class\n",
    "* Without it users may also change these attributes in undesirable ways"
   ]
  },
  {
   "cell_type": "code",
   "execution_count": 18,
   "metadata": {
    "slideshow": {
     "slide_type": "-"
    }
   },
   "outputs": [
    {
     "name": "stdout",
     "output_type": "stream",
     "text": [
      "[1, 2, 3, 4, 5, 6]\n"
     ]
    }
   ],
   "source": [
    "class Course(object):\n",
    "    \n",
    "    def __init__(self, student_list):\n",
    "        self.students = student_list\n",
    "        self.grades = {}\n",
    "    \n",
    "    def get_students():\n",
    "        return self.students[:]\n",
    "    \n",
    "course1 = Course([1, 2, 3])\n",
    "course2 = Course([4, 5, 6])\n",
    "\n",
    "all_students = course1.students\n",
    "all_students.extend(course2.students)\n",
    "\n",
    "print(course1.students) # we changed course1 -- pointer problem (aka we aliased)\n"
   ]
  },
  {
   "cell_type": "markdown",
   "metadata": {
    "slideshow": {
     "slide_type": "slide"
    }
   },
   "source": [
    "## In Practice, Information Hiding in Python Requires Discipline!\n",
    "\n",
    "* Do not directly access data attributes from outside the class in which they are defined\n",
    "* Return copies of mutable objects rather than the objects themselves (e.g. lists or dictionaries)\n",
    "\n",
    "#### Speed issues arise because of this duplicating the data everytime\n",
    "--> `yield` can help !"
   ]
  },
  {
   "cell_type": "code",
   "execution_count": 19,
   "metadata": {
    "slideshow": {
     "slide_type": "-"
    }
   },
   "outputs": [
    {
     "name": "stdout",
     "output_type": "stream",
     "text": [
      "[1, 2, 3, 4, 5, 6, 7, 8, 9, 10]\n"
     ]
    }
   ],
   "source": [
    "class Course(object):\n",
    "    \n",
    "    def __init__(self, student_list):\n",
    "        self.students = student_list\n",
    "        self.grades = {}\n",
    "    \n",
    "    def get_students(self):\n",
    "        return self.students[:] # Creates a copy of a list already in memory\n",
    "    \n",
    "    def add_grade(self, student, grade):\n",
    "        self.grades[student] = grade\n",
    "    \n",
    "course1 = Course([i for i in range(1, 11)])\n",
    "for i in course1.get_students():\n",
    "    course1.add_grade(i, 100)\n",
    "    \n",
    "print(course1.get_students()) "
   ]
  },
  {
   "cell_type": "markdown",
   "metadata": {
    "slideshow": {
     "slide_type": "slide"
    }
   },
   "source": [
    "## Generators with `yield`\n",
    "\n",
    "iterating over generators is much better than using copies of the whole data!"
   ]
  },
  {
   "cell_type": "code",
   "execution_count": 20,
   "metadata": {
    "slideshow": {
     "slide_type": "-"
    }
   },
   "outputs": [
    {
     "name": "stdout",
     "output_type": "stream",
     "text": [
      "<generator object Course.get_students at 0x103e08830>\n"
     ]
    }
   ],
   "source": [
    "class Course(object):\n",
    "    \n",
    "    def __init__(self, student_list):\n",
    "        self.students = student_list\n",
    "        self.grades = {}\n",
    "    \n",
    "    def get_students(self):\n",
    "        for i in self.students:\n",
    "            yield i\n",
    "    \n",
    "    def add_grade(self, student, grade):\n",
    "        self.grades[student] = grade\n",
    "    \n",
    "course1 = Course([i for i in range(1, 11)])\n",
    "for i in course1.get_students():\n",
    "    course1.add_grade(i, 100)\n",
    "    \n",
    "print(course1.get_students())"
   ]
  },
  {
   "cell_type": "markdown",
   "metadata": {
    "slideshow": {
     "slide_type": "slide"
    }
   },
   "source": [
    "## When to Use Classes\n",
    "\n",
    "* Methods require look-up so are a bit slower than functions"
   ]
  },
  {
   "cell_type": "code",
   "execution_count": 21,
   "metadata": {
    "slideshow": {
     "slide_type": "-"
    }
   },
   "outputs": [
    {
     "data": {
      "text/plain": [
       "mappingproxy({'__dict__': <attribute '__dict__' of 'Person' objects>,\n",
       "              '__doc__': None,\n",
       "              '__init__': <function __main__.Person.__init__>,\n",
       "              '__lt__': <function __main__.Person.__lt__>,\n",
       "              '__module__': '__main__',\n",
       "              '__str__': <function __main__.Person.__str__>,\n",
       "              '__weakref__': <attribute '__weakref__' of 'Person' objects>,\n",
       "              'get_age': <function __main__.Person.get_age>,\n",
       "              'get_name': <function __main__.Person.get_name>,\n",
       "              'set_birthdate': <function __main__.Person.set_birthdate>})"
      ]
     },
     "execution_count": 21,
     "metadata": {},
     "output_type": "execute_result"
    }
   ],
   "source": [
    "Person.__dict__"
   ]
  },
  {
   "cell_type": "code",
   "execution_count": 43,
   "metadata": {},
   "outputs": [
    {
     "ename": "NameError",
     "evalue": "name 'x' is not defined",
     "output_type": "error",
     "traceback": [
      "\u001b[0;31m---------------------------------------------------------------------------\u001b[0m",
      "\u001b[0;31mNameError\u001b[0m                                 Traceback (most recent call last)",
      "\u001b[0;32m<ipython-input-43-6699b379bc1b>\u001b[0m in \u001b[0;36m<module>\u001b[0;34m()\u001b[0m\n\u001b[1;32m      1\u001b[0m \u001b[0mx\u001b[0m \u001b[0;34m=\u001b[0m \u001b[0;36m1\u001b[0m\u001b[0;34m\u001b[0m\u001b[0m\n\u001b[1;32m      2\u001b[0m \u001b[0;32mdel\u001b[0m \u001b[0mx\u001b[0m\u001b[0;34m\u001b[0m\u001b[0m\n\u001b[0;32m----> 3\u001b[0;31m \u001b[0mx\u001b[0m\u001b[0;34m\u001b[0m\u001b[0m\n\u001b[0m",
      "\u001b[0;31mNameError\u001b[0m: name 'x' is not defined"
     ]
    }
   ],
   "source": [
    "x = 1\n",
    "del x\n",
    "x"
   ]
  },
  {
   "cell_type": "markdown",
   "metadata": {
    "slideshow": {
     "slide_type": "fragment"
    }
   },
   "source": [
    "* Designing classes properly can be quite time-consuming"
   ]
  },
  {
   "cell_type": "markdown",
   "metadata": {
    "slideshow": {
     "slide_type": "fragment"
    }
   },
   "source": [
    "* In general, data scientists are less likely to implement classes\n",
    "* However, most modules and packages that data scientists use make heavy use of object-oriented programming"
   ]
  },
  {
   "cell_type": "markdown",
   "metadata": {
    "slideshow": {
     "slide_type": "fragment"
    }
   },
   "source": [
    "* **If you are building a reusable and extendable code to share with others and/or release publicly, use classes!**"
   ]
  },
  {
   "cell_type": "markdown",
   "metadata": {
    "slideshow": {
     "slide_type": "slide"
    }
   },
   "source": [
    "## Classes in Python\n",
    "\n",
    "* Reusable abstractions\n",
    "* Reduce development time for large projects\n",
    "* Allow to maintain and update programs without disruptions for users\n",
    "* Help produce more reliable programs\n",
    "* Essential for developing user applications"
   ]
  },
  {
   "cell_type": "markdown",
   "metadata": {
    "slideshow": {
     "slide_type": "fragment"
    }
   },
   "source": [
    "-------\n",
    "\n",
    "* **Lab**: Collaborative programming\n",
    "* **Next week**: No lecture or class! I am not available for regular office hours but e-mail me to arrange time to meet."
   ]
  },
  {
   "cell_type": "markdown",
   "metadata": {
    "slideshow": {
     "slide_type": "slide"
    }
   },
   "source": [
    "## Collaborative Programming\n",
    "\n",
    "* Most programming is collaborative\n",
    "* Functions and classes allow us to:\n",
    "  1. Design programs\n",
    "  * Divide work\n",
    "  * Write code simultaneously\n",
    "  * Merge contributions  \n",
    "* The next two weekly assignments will be done in groups of two\n",
    "* Pairs will be formed randomly"
   ]
  },
  {
   "cell_type": "markdown",
   "metadata": {
    "slideshow": {
     "slide_type": "slide"
    }
   },
   "source": [
    "## Work on Assignment 5 in Pairs\n",
    "\n",
    "1. Wait for an e-mail with your team name\n",
    "* Go to the assignment link in the e-mail\n",
    "* If you see your team, join it\n",
    "* If you don't see your team, create it"
   ]
  },
  {
   "cell_type": "markdown",
   "metadata": {
    "slideshow": {
     "slide_type": "slide"
    }
   },
   "source": [
    "## Let's say you drew the following team name:\n",
    "\n",
    "# team-0"
   ]
  },
  {
   "cell_type": "markdown",
   "metadata": {
    "slideshow": {
     "slide_type": "slide"
    }
   },
   "source": [
    "## If you see your team in the list of current teams, click \"Join\"\n",
    "\n",
    "![Choose team for assignment](figs/choose_team.png \"Choose team for assignment\")"
   ]
  },
  {
   "cell_type": "markdown",
   "metadata": {
    "slideshow": {
     "slide_type": "slide"
    }
   },
   "source": [
    "## If you don't see your team in the list of current teams, enter its name and click \"Create team\"\n",
    "\n",
    "![If team does not exist yet, create it](figs/create_team.png \"If team does not exist yet, create it\")"
   ]
  },
  {
   "cell_type": "markdown",
   "metadata": {
    "slideshow": {
     "slide_type": "slide"
    }
   },
   "source": [
    "## If successful, you and your partner are given access to the same remote repository **assignment-5-team-0**\n",
    "\n",
    "![Team repository](figs/team_repo.png \"Team repository\")"
   ]
  },
  {
   "cell_type": "markdown",
   "metadata": {
    "slideshow": {
     "slide_type": "slide"
    }
   },
   "source": [
    "## What Happens Next\n",
    "\n",
    "* Each of you should clone the team repository locally\n",
    "* Coordinate how to divide the labor\n",
    "* Work separately but use GitHub to open issues and pull requests\n",
    "* Merge your contributions\n",
    "\n",
    "### We will discuss how to use GitHub for collaboration in class"
   ]
  },
  {
   "cell_type": "markdown",
   "metadata": {
    "slideshow": {
     "slide_type": "notes"
    }
   },
   "source": [
    "---"
   ]
  },
  {
   "cell_type": "markdown",
   "metadata": {
    "slideshow": {
     "slide_type": "slide"
    }
   },
   "source": [
    "### MY470 Computer Programming\n",
    "# Useful Python Library: `networkx`\n",
    "### Week 5 Extra"
   ]
  },
  {
   "cell_type": "markdown",
   "metadata": {
    "slideshow": {
     "slide_type": "slide"
    }
   },
   "source": [
    "## Background\n",
    "\n",
    "![NetworkX](figs/networkx.png \"NetworkX\")\n",
    "\n",
    "* Library for studying networks\n",
    "* The major data structures are of the type \"dictionary of dictionaries\"\n",
    "* Capabilities:\n",
    "    * Estimate common network measures\n",
    "    * Construct random networks\n",
    "    * Visualize networks\n",
    "    * Convert networks to and from different formats"
   ]
  },
  {
   "cell_type": "markdown",
   "metadata": {
    "slideshow": {
     "slide_type": "slide"
    }
   },
   "source": [
    "## Creating Networks"
   ]
  },
  {
   "cell_type": "code",
   "execution_count": 23,
   "metadata": {
    "slideshow": {
     "slide_type": "-"
    }
   },
   "outputs": [
    {
     "name": "stdout",
     "output_type": "stream",
     "text": [
      "[1, 2, 3]\n"
     ]
    },
    {
     "data": {
      "text/plain": [
       "NodeView((1, 2, 3))"
      ]
     },
     "execution_count": 23,
     "metadata": {},
     "output_type": "execute_result"
    }
   ],
   "source": [
    "import networkx as nx\n",
    "\n",
    "# Create and empty network\n",
    "G = nx.Graph()  \n",
    "# Add nodes to network\n",
    "G.add_node(1)\n",
    "G.add_nodes_from([2,3])\n",
    "print(G.nodes())\n",
    "G.nodes()"
   ]
  },
  {
   "cell_type": "code",
   "execution_count": 24,
   "metadata": {
    "slideshow": {
     "slide_type": "fragment"
    }
   },
   "outputs": [
    {
     "name": "stdout",
     "output_type": "stream",
     "text": [
      "[(1, 2), (1, 3), (1, 4), (2, 3)]\n",
      "[1, 2, 3, 4]\n"
     ]
    }
   ],
   "source": [
    "# Add edges to network (nodes are automatically added if they don't exist already)\n",
    "G.add_edge(1, 2)\n",
    "G.add_edges_from([(2, 3), (1, 3), (1, 4)])\n",
    "print(G.edges())\n",
    "print(G.nodes())"
   ]
  },
  {
   "cell_type": "markdown",
   "metadata": {
    "slideshow": {
     "slide_type": "slide"
    }
   },
   "source": [
    "## Node and Edge Attributes"
   ]
  },
  {
   "cell_type": "code",
   "execution_count": 25,
   "metadata": {
    "scrolled": true,
    "slideshow": {
     "slide_type": "-"
    }
   },
   "outputs": [
    {
     "data": {
      "text/plain": [
       "NodeDataView({1: {'name': 'Anna'}, 2: {}, 3: {}, 4: {}, 5: {'name': 'Elliot'}, 6: {'name': 'Fathima'}, 7: {'name': 'Fathima'}})"
      ]
     },
     "execution_count": 25,
     "metadata": {},
     "output_type": "execute_result"
    }
   ],
   "source": [
    "# Add/modify node attributes\n",
    "G.nodes[1]['name'] = 'Anna'\n",
    "G.add_node(5, name = 'Elliot')\n",
    "G.add_nodes_from([6, 7], name = 'Fathima')\n",
    "G.nodes.data()"
   ]
  },
  {
   "cell_type": "code",
   "execution_count": 26,
   "metadata": {
    "slideshow": {
     "slide_type": "fragment"
    }
   },
   "outputs": [
    {
     "data": {
      "text/plain": [
       "EdgeDataView([(1, 2, {'weight': 1.7}), (1, 3, {'weight': 1}), (1, 4, {}), (2, 3, {'weight': 1.5}), (5, 6, {'weight': 2})])"
      ]
     },
     "execution_count": 26,
     "metadata": {},
     "output_type": "execute_result"
    }
   ],
   "source": [
    "# Add/modify edge attributes\n",
    "G.add_edge(5, 6, weight=2 )\n",
    "G.add_edges_from([(1, 2), (1, 3)], weight=1)\n",
    "G[1][2]['weight'] = 1.7\n",
    "G.edges[2, 3]['weight'] = 1.5\n",
    "G.edges.data()"
   ]
  },
  {
   "cell_type": "markdown",
   "metadata": {
    "slideshow": {
     "slide_type": "slide"
    }
   },
   "source": [
    "## Analyzing Networks"
   ]
  },
  {
   "cell_type": "code",
   "execution_count": 27,
   "metadata": {
    "slideshow": {
     "slide_type": "-"
    }
   },
   "outputs": [
    {
     "data": {
      "text/plain": [
       "DegreeView({1: 3, 2: 2, 3: 2, 4: 1, 5: 1, 6: 1, 7: 0})"
      ]
     },
     "execution_count": 27,
     "metadata": {},
     "output_type": "execute_result"
    }
   ],
   "source": [
    "# Estimate node degrees -- returns a DegreeView object capable of iterating (node, degree) pairs\n",
    "G.degree()"
   ]
  },
  {
   "cell_type": "code",
   "execution_count": 28,
   "metadata": {
    "slideshow": {
     "slide_type": "fragment"
    }
   },
   "outputs": [
    {
     "data": {
      "text/plain": [
       "{1: 0.3333333333333333, 2: 1.0, 3: 1.0, 4: 0, 5: 0, 6: 0, 7: 0}"
      ]
     },
     "execution_count": 28,
     "metadata": {},
     "output_type": "execute_result"
    }
   ],
   "source": [
    "# Estimate node clustering\n",
    "# The method returns dictionary -- it's good example about the importance of consistency!\n",
    "nx.clustering(G)"
   ]
  },
  {
   "cell_type": "code",
   "execution_count": 29,
   "metadata": {
    "slideshow": {
     "slide_type": "fragment"
    }
   },
   "outputs": [
    {
     "data": {
      "text/plain": [
       "[{1, 2, 3, 4}, {5, 6}, {7}]"
      ]
     },
     "execution_count": 29,
     "metadata": {},
     "output_type": "execute_result"
    }
   ],
   "source": [
    "# Identify the connected subcomponents in the network -- returns a generator!\n",
    "list(nx.connected_components(G))"
   ]
  },
  {
   "cell_type": "markdown",
   "metadata": {
    "slideshow": {
     "slide_type": "fragment"
    }
   },
   "source": [
    "* Despite these inconsistencies, `networkx` is a powerful library for network analysis (although not so much for visualization)\n",
    "* When in doubt or confused, simply consult the documentation!"
   ]
  },
  {
   "cell_type": "markdown",
   "metadata": {
    "slideshow": {
     "slide_type": "slide"
    }
   },
   "source": [
    "## Resources\n",
    "\n",
    "* Get started: [NetworkX tutorial](https://networkx.github.io/documentation/stable/tutorial.html)\n",
    "* Get inspired: [NetworkX examples](https://networkx.github.io/documentation/stable/auto_examples/index.html)\n",
    "* Get it done: [NetworkX reference](https://networkx.github.io/documentation/stable/reference/index.html)"
   ]
  }
 ],
 "metadata": {
  "celltoolbar": "Slideshow",
  "kernelspec": {
   "display_name": "Python 3",
   "language": "python",
   "name": "python3"
  },
  "language_info": {
   "codemirror_mode": {
    "name": "ipython",
    "version": 3
   },
   "file_extension": ".py",
   "mimetype": "text/x-python",
   "name": "python",
   "nbconvert_exporter": "python",
   "pygments_lexer": "ipython3",
   "version": "3.6.5"
  }
 },
 "nbformat": 4,
 "nbformat_minor": 2
}
