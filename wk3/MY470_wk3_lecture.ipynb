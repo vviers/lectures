{
 "cells": [
  {
   "cell_type": "markdown",
   "metadata": {
    "slideshow": {
     "slide_type": "slide"
    }
   },
   "source": [
    "### MY470 Computer Programming\n",
    "# Control Flow in Python\n",
    "### Week 3 Lecture"
   ]
  },
  {
   "cell_type": "markdown",
   "metadata": {
    "slideshow": {
     "slide_type": "slide"
    }
   },
   "source": [
    "## Overview\n",
    "\n",
    "* What is control flow?\n",
    "* Conditional statements\n",
    "* Iteration\n",
    "* List comprehensions\n",
    "* Examples\n",
    " * Exhaustive enumeration \n",
    " * Bisection search\n",
    " * Newton-Raphson algorithm\n",
    " \n",
    "---\n",
    "* Useful Python package: `pandas`"
   ]
  },
  {
   "cell_type": "markdown",
   "metadata": {
    "slideshow": {
     "slide_type": "slide"
    }
   },
   "source": [
    "## From Last Week: Straight-Line Programs"
   ]
  },
  {
   "cell_type": "code",
   "execution_count": 1,
   "metadata": {
    "scrolled": true,
    "slideshow": {
     "slide_type": "-"
    }
   },
   "outputs": [
    {
     "name": "stdout",
     "output_type": "stream",
     "text": [
      "There are 12 words in the sentence.\n"
     ]
    }
   ],
   "source": [
    "s = 'All animals are equal, but some animals are more equal than others.'\n",
    "s = s.rstrip('.').lower()\n",
    "s_tokens = s.split()\n",
    "print('There are', len(s_tokens), 'words in the sentence.')\n"
   ]
  },
  {
   "cell_type": "markdown",
   "metadata": {
    "slideshow": {
     "slide_type": "slide"
    }
   },
   "source": [
    "## Control Flow\n",
    "\n",
    "* Control flow is the order in which statements are executed or evaluated\n",
    "* In Python, there are three main categories of control flow:\n",
    "  * **Branches** (conditional statements) – execute only if some condition is met\n",
    "  * **Loops** (iteration) – execute repeatedly \n",
    "  * Function calls – execute a set of distant statements and return back to the control flow"
   ]
  },
  {
   "cell_type": "markdown",
   "metadata": {
    "slideshow": {
     "slide_type": "slide"
    }
   },
   "source": [
    "## Conditional Statements\n",
    "\n",
    "![Conditional statements](figs/conditional_statements.png \"Conditional statements\")"
   ]
  },
  {
   "cell_type": "markdown",
   "metadata": {
    "slideshow": {
     "slide_type": "slide"
    }
   },
   "source": [
    "## Conditional Statements: `if`\n",
    "\n",
    "```\n",
    "if *Boolean expression*:\n",
    "    *block of code*\n",
    "```"
   ]
  },
  {
   "cell_type": "code",
   "execution_count": 2,
   "metadata": {
    "scrolled": true,
    "slideshow": {
     "slide_type": "-"
    }
   },
   "outputs": [
    {
     "name": "stdout",
     "output_type": "stream",
     "text": [
      "How old are you? 26\n",
      "Ah, I see, you are a mature student.\n"
     ]
    }
   ],
   "source": [
    "x = input('How old are you? ')\n",
    "if int(x) >= 25:\n",
    "    print(\"Ah, I see, you are a mature student.\")\n",
    "    "
   ]
  },
  {
   "cell_type": "markdown",
   "metadata": {
    "slideshow": {
     "slide_type": "slide"
    }
   },
   "source": [
    "## Indentation in Python Code\n",
    "\n",
    "* Indentation is semantically meaningful in Python\n",
    "* You can use [tabs or spaces](https://www.youtube.com/watch?v=SsoOG6ZeyUI)"
   ]
  },
  {
   "cell_type": "markdown",
   "metadata": {
    "slideshow": {
     "slide_type": "fragment"
    }
   },
   "source": [
    "* Obviously(!), tabs are preferable\n",
    "* However, it does not really matter in Jupyter as Jupyter converts tabs to spaces by default"
   ]
  },
  {
   "cell_type": "markdown",
   "metadata": {
    "slideshow": {
     "slide_type": "slide"
    }
   },
   "source": [
    "## Conditional Statements: `if`–`else`\n",
    "\n",
    "```\n",
    "if *Boolean expression*:\n",
    "    *block of code*\n",
    "else:\n",
    "    *block of code*\n",
    "```"
   ]
  },
  {
   "cell_type": "code",
   "execution_count": 3,
   "metadata": {
    "scrolled": true,
    "slideshow": {
     "slide_type": "-"
    }
   },
   "outputs": [
    {
     "name": "stdout",
     "output_type": "stream",
     "text": [
      "Odd\n",
      "Problem solved!\n"
     ]
    }
   ],
   "source": [
    "x = 5\n",
    "if x%2==0:\n",
    "    print(\"Even\")\n",
    "else:\n",
    "    print(\"Odd\")    \n",
    "print('Problem solved!')\n"
   ]
  },
  {
   "cell_type": "markdown",
   "metadata": {
    "slideshow": {
     "slide_type": "slide"
    }
   },
   "source": [
    "## Conditional Statements: `if`–`elif`–`else`\n",
    "\n",
    "```\n",
    "if *Boolean expression*:\n",
    "    *block of code*\n",
    "elif *Boolean expression*:\n",
    "    *block of code*\n",
    "else:\n",
    "    *block of code*\n",
    "```"
   ]
  },
  {
   "cell_type": "code",
   "execution_count": 4,
   "metadata": {
    "scrolled": true,
    "slideshow": {
     "slide_type": "-"
    }
   },
   "outputs": [
    {
     "name": "stdout",
     "output_type": "stream",
     "text": [
      "Negative\n"
     ]
    }
   ],
   "source": [
    "x = -2\n",
    "if x > 0:\n",
    "    print('Positive')\n",
    "elif x < 0:\n",
    "    print('Negative')\n",
    "else:\n",
    "    print('Zero')\n",
    "    "
   ]
  },
  {
   "cell_type": "markdown",
   "metadata": {
    "slideshow": {
     "slide_type": "slide"
    }
   },
   "source": [
    "## Conditional Statements Are Evaluated Sequentially\n",
    "\n",
    "Hence, it makes sense to start with the most likely one. This could make your code faster! "
   ]
  },
  {
   "cell_type": "code",
   "execution_count": 5,
   "metadata": {
    "scrolled": true,
    "slideshow": {
     "slide_type": "-"
    }
   },
   "outputs": [
    {
     "name": "stdout",
     "output_type": "stream",
     "text": [
      "Guess which number from 1 to 100 I'm thinking of? 30\n",
      "You are very close. Try again.\n"
     ]
    }
   ],
   "source": [
    "correct = 25\n",
    "\n",
    "guess = int(input(\"Guess which number from 1 to 100 I'm thinking of? \"))\n",
    "\n",
    "if guess > correct + 10 or guess < correct - 10:\n",
    "    print(\"You are quite far. Try again.\")\n",
    "elif guess != correct:\n",
    "    print(\"You are very close. Try again.\")\n",
    "else:\n",
    "    print(\"That's right!\")\n",
    "    "
   ]
  },
  {
   "cell_type": "markdown",
   "metadata": {
    "slideshow": {
     "slide_type": "slide"
    }
   },
   "source": [
    "## Nested Conditional Statements\n",
    "\n",
    "Nesting conditional statements is often a question of style. As always, clarity and speed should be your major considerations!"
   ]
  },
  {
   "cell_type": "code",
   "execution_count": 6,
   "metadata": {
    "scrolled": true,
    "slideshow": {
     "slide_type": "-"
    }
   },
   "outputs": [
    {
     "name": "stdout",
     "output_type": "stream",
     "text": [
      "This is a negative number\n"
     ]
    }
   ],
   "source": [
    "x = -100\n",
    "\n",
    "if type(x)==int or type(x)==float:\n",
    "    if x > 0:\n",
    "        print('This is a non-negative number')\n",
    "    else:\n",
    "        print('This is a negative number')\n",
    "elif type(x)==str:\n",
    "    print('This is a string.')\n",
    "else:\n",
    "    print(\"I don't now what this is.\")\n",
    "    "
   ]
  },
  {
   "cell_type": "markdown",
   "metadata": {
    "slideshow": {
     "slide_type": "slide"
    }
   },
   "source": [
    "## Iteration\n",
    "\n",
    "![Iteration](figs/iteration.png \"Iteration\")"
   ]
  },
  {
   "cell_type": "markdown",
   "metadata": {
    "slideshow": {
     "slide_type": "slide"
    }
   },
   "source": [
    "## Iteration: `while` vs. `for`"
   ]
  },
  {
   "cell_type": "markdown",
   "metadata": {
    "slideshow": {
     "slide_type": "-"
    }
   },
   "source": [
    "```\n",
    "while *Boolean expression*:\n",
    "    *block of code*\n",
    "```"
   ]
  },
  {
   "cell_type": "markdown",
   "metadata": {
    "slideshow": {
     "slide_type": "-"
    }
   },
   "source": [
    "```\n",
    "for *element* in *sequence*:\n",
    "    *block of code*\n",
    "```"
   ]
  },
  {
   "cell_type": "markdown",
   "metadata": {
    "slideshow": {
     "slide_type": "slide"
    }
   },
   "source": [
    "## Iteration: `while` with decrementing function\n",
    "\n",
    "The decrementing function is a function that maps variables to an integer that is initially non-negative but that decreases with every pass through the loop; the loop ends when the integer is 0."
   ]
  },
  {
   "cell_type": "code",
   "execution_count": 7,
   "metadata": {
    "scrolled": true,
    "slideshow": {
     "slide_type": "-"
    }
   },
   "outputs": [
    {
     "name": "stdout",
     "output_type": "stream",
     "text": [
      "1\n",
      "2\n",
      "3\n",
      "4\n",
      "5\n"
     ]
    }
   ],
   "source": [
    "# decrementing function: 5 - x\n",
    "x = 0\n",
    "while x < 5: \n",
    "    x += 1\n",
    "    print(x)\n",
    "    "
   ]
  },
  {
   "cell_type": "markdown",
   "metadata": {
    "slideshow": {
     "slide_type": "slide"
    }
   },
   "source": [
    "## Iteration: `while` with conditional statements\n"
   ]
  },
  {
   "cell_type": "code",
   "execution_count": 8,
   "metadata": {
    "scrolled": true,
    "slideshow": {
     "slide_type": "-"
    }
   },
   "outputs": [
    {
     "name": "stdout",
     "output_type": "stream",
     "text": [
      "Guess which number from 1 to 100 I'm thinking of? 70\n",
      "You are quite far. Try again.\n",
      "Guess which number from 1 to 100 I'm thinking of? 24\n",
      "You are very close. Try again.\n",
      "Guess which number from 1 to 100 I'm thinking of? 25\n",
      "That's right!\n"
     ]
    }
   ],
   "source": [
    "correct = 25\n",
    "repeat = True\n",
    "\n",
    "while repeat:\n",
    "    guess = int(input(\"Guess which number from 1 to 100 I'm thinking of? \"))\n",
    "    \n",
    "    if guess > correct + 10 or guess < correct - 10:\n",
    "        print(\"You are quite far. Try again.\")\n",
    "    elif guess != correct:\n",
    "        print(\"You are very close. Try again.\")\n",
    "    else:\n",
    "        print(\"That's right!\")\n",
    "        repeat=False\n",
    "        "
   ]
  },
  {
   "cell_type": "markdown",
   "metadata": {
    "slideshow": {
     "slide_type": "slide"
    }
   },
   "source": [
    "## Iteration: `for`\n",
    "\n",
    "```\n",
    "for *element* in *sequence*:\n",
    "    *block of code*\n",
    "```\n"
   ]
  },
  {
   "cell_type": "code",
   "execution_count": 9,
   "metadata": {
    "scrolled": true,
    "slideshow": {
     "slide_type": "-"
    }
   },
   "outputs": [
    {
     "name": "stdout",
     "output_type": "stream",
     "text": [
      "1 2 3 4 5 "
     ]
    }
   ],
   "source": [
    "for i in [1, 2, 3, 4, 5]:\n",
    "    print(i, end=' ') \n",
    "    # Note that the \"end\" parameter replaces the default new line with a space\n",
    "    # This allows us to print on the same line\n",
    "    "
   ]
  },
  {
   "cell_type": "markdown",
   "metadata": {
    "slideshow": {
     "slide_type": "slide"
    }
   },
   "source": [
    "## `range()`\n",
    "\n",
    "* In-built function that produces an immutable ordered non-scalar object of type `range`\n",
    "* Initiate as `range([start], stop, [step])`. If ommitted, `start = 0` and `step = 1`. \n",
    "* Function produces progression of integers `[start, start + step, start + 2*step, ..., start + i*step]` \n",
    "  * If step > 0, `start + i*step < stop` \n",
    "  * If step < 0, `start - i*step > stop` "
   ]
  },
  {
   "cell_type": "code",
   "execution_count": 10,
   "metadata": {
    "scrolled": true,
    "slideshow": {
     "slide_type": "-"
    }
   },
   "outputs": [
    {
     "name": "stdout",
     "output_type": "stream",
     "text": [
      "range(0, 6)\n",
      "[0, 1, 2, 3, 4, 5]\n"
     ]
    }
   ],
   "source": [
    "print(range(6))\n",
    "print(list(range(6)))\n"
   ]
  },
  {
   "cell_type": "markdown",
   "metadata": {
    "slideshow": {
     "slide_type": "slide"
    }
   },
   "source": [
    "## `range()` is essential for `for`-loops"
   ]
  },
  {
   "cell_type": "code",
   "execution_count": 11,
   "metadata": {
    "scrolled": true,
    "slideshow": {
     "slide_type": "-"
    }
   },
   "outputs": [
    {
     "name": "stdout",
     "output_type": "stream",
     "text": [
      "0 1 2 3 4 5 \n",
      "1 2 3 4 5 \n",
      "1 3 5 "
     ]
    }
   ],
   "source": [
    "for i in range(6):\n",
    "    print(i, end=' ')\n",
    "print() \n",
    "\n",
    "for i in range(1,6):\n",
    "    print(i, end=' ')\n",
    "print()\n",
    "    \n",
    "for i in range(1,6,2):\n",
    "    print(i, end=' ')\n",
    "    "
   ]
  },
  {
   "cell_type": "markdown",
   "metadata": {
    "slideshow": {
     "slide_type": "slide"
    }
   },
   "source": [
    "## Indexing Lists with `range(len(L))`"
   ]
  },
  {
   "cell_type": "code",
   "execution_count": 12,
   "metadata": {
    "scrolled": false,
    "slideshow": {
     "slide_type": "-"
    }
   },
   "outputs": [
    {
     "name": "stdout",
     "output_type": "stream",
     "text": [
      "index 0 - a\n",
      "index 1 - b\n",
      "index 2 - c\n",
      "index 3 - d\n"
     ]
    }
   ],
   "source": [
    "mylist = ['a', 'b', 'c', 'd']\n",
    "for i in range(len(mylist)):\n",
    "     print('index', i, '-', mylist[i])\n",
    "        "
   ]
  },
  {
   "cell_type": "markdown",
   "metadata": {
    "slideshow": {
     "slide_type": "fragment"
    }
   },
   "source": [
    "* This is especially useful when you need to go simultaneously over two different lists of the same length"
   ]
  },
  {
   "cell_type": "code",
   "execution_count": 13,
   "metadata": {
    "scrolled": true,
    "slideshow": {
     "slide_type": "-"
    }
   },
   "outputs": [
    {
     "name": "stdout",
     "output_type": "stream",
     "text": [
      "a1, b2, c3, d4, "
     ]
    }
   ],
   "source": [
    "mylist1 = ['a', 'b', 'c', 'd']\n",
    "mylist2 = [1, 2, 3, 4]\n",
    "for i in range(len(mylist1)):\n",
    "     print(mylist1[i] + str(mylist2[i]), end = ', ')"
   ]
  },
  {
   "cell_type": "markdown",
   "metadata": {
    "slideshow": {
     "slide_type": "slide"
    }
   },
   "source": [
    "## Iteration: `break` and `continue`\n",
    "\n",
    "* Use `break` to exit a loop \n",
    "* Use `continue` to go directly to next iteration"
   ]
  },
  {
   "cell_type": "code",
   "execution_count": 14,
   "metadata": {
    "scrolled": true,
    "slideshow": {
     "slide_type": "-"
    }
   },
   "outputs": [
    {
     "name": "stdout",
     "output_type": "stream",
     "text": [
      "0\n",
      "1\n",
      "3\n",
      "4\n"
     ]
    }
   ],
   "source": [
    "for i in range(5):\n",
    "    if i==2:\n",
    "        continue  # Now try with break\n",
    "    print(i)\n",
    "    "
   ]
  },
  {
   "cell_type": "markdown",
   "metadata": {
    "slideshow": {
     "slide_type": "slide"
    }
   },
   "source": [
    "## List Comprehensions\n",
    "\n",
    "```\n",
    "L = [*object, expression, or function* for *element* in *sequence*]\n",
    "L = [*object, expression, or function* for *element* in *sequence* if *Boolean expression*]\n",
    "L = [*object, expression, or function* for *element* in *sequence* for *element2* in *sequence2*]\n",
    "```\n",
    "\n",
    "* Provide a concise way to create lists\n",
    "* Faster because implemented in C\n",
    "* Nested list comprehension can be somewhat confusing\n"
   ]
  },
  {
   "cell_type": "markdown",
   "metadata": {
    "slideshow": {
     "slide_type": "slide"
    }
   },
   "source": [
    "## List Comprehensions"
   ]
  },
  {
   "cell_type": "code",
   "execution_count": 15,
   "metadata": {
    "scrolled": true,
    "slideshow": {
     "slide_type": "-"
    }
   },
   "outputs": [
    {
     "name": "stdout",
     "output_type": "stream",
     "text": [
      "[1, 4, 9, 16, 25, 36, 49, 64, 81, 100]\n",
      "[1, 4, 9, 16, 25, 36, 49, 64, 81, 100]\n"
     ]
    }
   ],
   "source": [
    "print([x**2 for x in range(1,11)])\n",
    "\n",
    "ans = []\n",
    "for x in range(1,11):\n",
    "    ans.append(x**2)\n",
    "print(ans)\n"
   ]
  },
  {
   "cell_type": "code",
   "execution_count": 16,
   "metadata": {
    "scrolled": true,
    "slideshow": {
     "slide_type": "fragment"
    }
   },
   "outputs": [
    {
     "name": "stdout",
     "output_type": "stream",
     "text": [
      "[4, 16, 36, 64, 100]\n",
      "['a1', 'a2', 'a3', 'b1', 'b2', 'b3', 'c1', 'c2', 'c3']\n"
     ]
    }
   ],
   "source": [
    "print([x**2 for x in range(1,11) if x%2==0])\n",
    "print([x+y for x in ['a', 'b', 'c'] for y in ['1','2', '3']])\n"
   ]
  },
  {
   "cell_type": "markdown",
   "metadata": {
    "slideshow": {
     "slide_type": "slide"
    }
   },
   "source": [
    "## Dictionary and Set Comprehensions"
   ]
  },
  {
   "cell_type": "code",
   "execution_count": 17,
   "metadata": {
    "scrolled": true,
    "slideshow": {
     "slide_type": "-"
    }
   },
   "outputs": [
    {
     "name": "stdout",
     "output_type": "stream",
     "text": [
      "{1: 1, 2: 4, 3: 9, 4: 16, 5: 25, 6: 36, 7: 49, 8: 64, 9: 81, 10: 100}\n",
      "{'a': 1, 'b': 2, 'c': 2}\n",
      "{'o', 's', 't', 'm', 'n', 'g', 'e', 'a', 'r', 'i', 'd'}\n"
     ]
    }
   ],
   "source": [
    "print({x: x**2 for x in range(1,11)})\n",
    "print({x.lower(): y for x, y in [('A',1), ('b',2), ('C',2)]})\n",
    "\n",
    "print({x.lower() for x in 'SomeRandomSTRING'})\n"
   ]
  },
  {
   "cell_type": "markdown",
   "metadata": {
    "slideshow": {
     "slide_type": "slide"
    }
   },
   "source": [
    "## Example: Exhaustive Enumeration"
   ]
  },
  {
   "cell_type": "code",
   "execution_count": 18,
   "metadata": {
    "scrolled": true,
    "slideshow": {
     "slide_type": "-"
    }
   },
   "outputs": [
    {
     "name": "stdout",
     "output_type": "stream",
     "text": [
      "The square root of 2500 is 50\n"
     ]
    }
   ],
   "source": [
    "# Find an approximation to the square root of a number\n",
    "\n",
    "x = 2500\n",
    "\n",
    "ans = 0\n",
    "\n",
    "# Increment ans until all options exhausted\n",
    "while ans**2 < abs(x):\n",
    "    ans += 1\n",
    "    \n",
    "if ans**2 != abs(x):\n",
    "    print(x, 'is not a perfect square')\n",
    "else:\n",
    "    print('The square root of', x, 'is', ans)\n",
    "    "
   ]
  },
  {
   "cell_type": "markdown",
   "metadata": {
    "slideshow": {
     "slide_type": "slide"
    }
   },
   "source": [
    "## Exhaustive Enumeration\n",
    "\n",
    "![Learning addition with an abacus as exhaustive enumeration](figs/exhaustive_enumeration.jpg \"Learning addition with an abacus as exhaustive enumeration\")\n",
    "\n",
    "\n",
    "* Systematically enumerate all possible solutions until you get the right answer or run out of possibilities\n",
    "* Example of **brute-force search** (aka **guess and check** strategy) — a general problem-solving technique in computer science\n",
    "* Suprisingly useful as computers are quite fast these days!"
   ]
  },
  {
   "cell_type": "markdown",
   "metadata": {
    "slideshow": {
     "slide_type": "slide"
    }
   },
   "source": [
    "## Example: Approximation with Exhaustive Enumeration"
   ]
  },
  {
   "cell_type": "code",
   "execution_count": 19,
   "metadata": {
    "scrolled": true,
    "slideshow": {
     "slide_type": "-"
    }
   },
   "outputs": [
    {
     "name": "stdout",
     "output_type": "stream",
     "text": [
      "Found 4.999000000001688 to be close approximation to square root of 25\n",
      "num_guess = 49990\n"
     ]
    }
   ],
   "source": [
    "# Find an approximation to the square root of a number using exhaustive enumeration\n",
    "\n",
    "x = 25\n",
    "\n",
    "epsilon = 0.01  # Precision of approximation  \n",
    "step = epsilon**2\n",
    "\n",
    "num_guess = 0 # Keep track of iteration steps\n",
    "ans = 0\n",
    "\n",
    "# Increment ans with step until close enough or until all options exhausted\n",
    "while abs(ans**2 - x) >= epsilon and ans <= x:\n",
    "    ans += step\n",
    "    num_guess += 1\n",
    "    \n",
    "if abs(ans**2 - x) >= epsilon:\n",
    "    print('Failed to find close approximation to the square root of', x)\n",
    "else:\n",
    "    print('Found', ans, 'to be close approximation to square root of', x)\n",
    "    \n",
    "print('num_guess =', num_guess)\n",
    "    "
   ]
  },
  {
   "cell_type": "markdown",
   "metadata": {
    "slideshow": {
     "slide_type": "slide"
    }
   },
   "source": [
    "## Bisection Search\n",
    "\n",
    "![Searching for a word in a dictionary as bisection search](figs/bisection_search.jpg \"Searching for a word in a dictionary as bisection search\")\n",
    "\n",
    "* Start in the middle of the array, eliminate the half in which the answer cannot lie, and continue the search in the other half until you get the right answer or run out of possibilities\n",
    "* Example of **divide and conquer** strategy — an algorithm-design paradigm in computer science\n",
    "  \n",
    "* Naturally implemented as a recursive procedure (covered next week)"
   ]
  },
  {
   "cell_type": "markdown",
   "metadata": {
    "slideshow": {
     "slide_type": "notes"
    }
   },
   "source": [
    "*In divide and conquer algorithms you divide the problem into smaller pieces until you can solve them, then reassemble the pieces to find the final solution.*"
   ]
  },
  {
   "cell_type": "markdown",
   "metadata": {
    "slideshow": {
     "slide_type": "slide"
    }
   },
   "source": [
    "## Example: Approximation with Bisection Search"
   ]
  },
  {
   "cell_type": "code",
   "execution_count": 20,
   "metadata": {
    "scrolled": true,
    "slideshow": {
     "slide_type": "-"
    }
   },
   "outputs": [
    {
     "name": "stdout",
     "output_type": "stream",
     "text": [
      "Found 5.00030517578125 to be close approximation to square root of 25\n",
      "num_guess = 13\n"
     ]
    }
   ],
   "source": [
    "# Find an approximation to the square root of a number using bisection search\n",
    "\n",
    "x = 25\n",
    "\n",
    "epsilon = 0.01  # Precision of approximation  \n",
    "num_guess = 0 # Keep track of iteration steps\n",
    "\n",
    "# Define interval for search\n",
    "low = 0\n",
    "high = max(1, x)\n",
    "\n",
    "# Start in the middle\n",
    "ans = (high + low) / 2 \n",
    "\n",
    "# Narrow down search interval until ans close enough\n",
    "while abs(ans**2 - x) >= epsilon:\n",
    "    if ans**2 < x:\n",
    "        low = ans\n",
    "    else:\n",
    "        high = ans\n",
    "    ans = (high + low) / 2\n",
    "    num_guess += 1\n",
    "    \n",
    "print('Found', ans, 'to be close approximation to square root of', x)\n",
    "    \n",
    "print('num_guess =', num_guess)\n"
   ]
  },
  {
   "cell_type": "markdown",
   "metadata": {
    "slideshow": {
     "slide_type": "slide"
    }
   },
   "source": [
    "## Newton-Raphson Method for Finding Polynomial Roots\n",
    "\n",
    "![Root-finding with the Newton-Raphson method](figs/newton-raphson.jpg \"Root-finding with the Newton-Raphson method\")\n",
    "\n",
    "* $x^2 - 25$ is a polynomial $p$\n",
    "* Newton proved a theorem that implies that if $a$ is a an approximation to the root of $p=0$, then $a - \\frac{p(a)}{p'(a)}$ is a better approximation\n",
    "* $p'$ is the first derivative of $p$. For $p = x^2 - 25$, $p' = 2x$ "
   ]
  },
  {
   "cell_type": "markdown",
   "metadata": {
    "slideshow": {
     "slide_type": "slide"
    }
   },
   "source": [
    "## Example: Approximation with Newton-Raphson Method"
   ]
  },
  {
   "cell_type": "code",
   "execution_count": 21,
   "metadata": {
    "scrolled": true,
    "slideshow": {
     "slide_type": "-"
    }
   },
   "outputs": [
    {
     "name": "stdout",
     "output_type": "stream",
     "text": [
      "13.0\n",
      "7.461538461538462\n",
      "5.406026962727994\n",
      "5.015247601944898\n",
      "5.000023178253949\n",
      "Found 5.000023178253949 to be close approximation to square root of 25\n",
      "num_guess = 5\n"
     ]
    }
   ],
   "source": [
    "# Find an approximation to the square root of a number using Newton-Raphson method\n",
    "# Find x such that x**2 - 25 is within epsilon of 0.01\n",
    "\n",
    "k = 25\n",
    "\n",
    "epsilon = 0.01  # Precision of approximation  \n",
    "num_guess = 0 # Keep track of iteration steps\n",
    "\n",
    "# Initialize first guess\n",
    "ans = k\n",
    "\n",
    "# Use Newton's theorem until ans close enough\n",
    "while abs(ans**2 - k) >= epsilon:\n",
    "    ans = ans - ( (ans**2 - k) / (2*ans))\n",
    "    print(ans)\n",
    "    num_guess += 1\n",
    "    \n",
    "print('Found', ans, 'to be close approximation to square root of', k)\n",
    "    \n",
    "print('num_guess =', num_guess)\n"
   ]
  },
  {
   "cell_type": "markdown",
   "metadata": {
    "slideshow": {
     "slide_type": "slide"
    }
   },
   "source": [
    "## Control Flow\n",
    "\n",
    "![Three categories of control flow](figs/control_flow.png \"Three categories of control flow\")"
   ]
  },
  {
   "cell_type": "markdown",
   "metadata": {
    "slideshow": {
     "slide_type": "fragment"
    }
   },
   "source": [
    "-------\n",
    "\n",
    "* **Lab**: `for` loops and list comprehensions, including nested list comprehensions\n",
    "* **Assignment**: Practice conditional statements and iteration on data\n",
    "* **Next week**: Functions in Python"
   ]
  },
  {
   "cell_type": "markdown",
   "metadata": {
    "slideshow": {
     "slide_type": "notes"
    }
   },
   "source": [
    "---"
   ]
  },
  {
   "cell_type": "markdown",
   "metadata": {
    "slideshow": {
     "slide_type": "slide"
    }
   },
   "source": [
    "### MY470 Computer Programming\n",
    "# Useful Python Library: `pandas`\n",
    "### Week 3 Extra"
   ]
  },
  {
   "cell_type": "markdown",
   "metadata": {
    "slideshow": {
     "slide_type": "slide"
    }
   },
   "source": [
    "## Background\n",
    "\n",
    "![Pandas](figs/pandas.png \"Pandas\")\n",
    "\n",
    "* Python library for data manipulation and analysis \n",
    "    * The name is derived from **pan**el **da**ta = **pandas**\n",
    "    * Partially written in C, so optimized for performance\n",
    "* Key features\n",
    "    * DataFrame object to hold and manipulate data\n",
    "    * Read from and write in multiple file formats\n",
    "    * Fancy indexing (including hierarchical)\n",
    "    * Operetaions to handle missing data\n",
    "    * Operations to slice, subset, split, reshape, pivot, merge, and join data sets"
   ]
  },
  {
   "cell_type": "markdown",
   "metadata": {
    "slideshow": {
     "slide_type": "slide"
    }
   },
   "source": [
    "## `DataFrame`\n",
    "\n",
    "* Primary `pandas` object\n",
    "* 2-d heterogeneous tabular data structure with axes labels (rows and columns)\n",
    "* like a `dict` for lists (more precisely, `pd.Series`)"
   ]
  },
  {
   "cell_type": "code",
   "execution_count": 22,
   "metadata": {
    "collapsed": true,
    "scrolled": true,
    "slideshow": {
     "slide_type": "-"
    }
   },
   "outputs": [],
   "source": [
    "import pandas as pd\n",
    "import numpy as np"
   ]
  },
  {
   "cell_type": "code",
   "execution_count": 23,
   "metadata": {
    "scrolled": true,
    "slideshow": {
     "slide_type": "-"
    }
   },
   "outputs": [
    {
     "data": {
      "text/html": [
       "<div>\n",
       "<table border=\"1\" class=\"dataframe\">\n",
       "  <thead>\n",
       "    <tr style=\"text-align: right;\">\n",
       "      <th></th>\n",
       "      <th>Col1</th>\n",
       "      <th>Col2</th>\n",
       "    </tr>\n",
       "  </thead>\n",
       "  <tbody>\n",
       "    <tr>\n",
       "      <th>0</th>\n",
       "      <td>1</td>\n",
       "      <td>a</td>\n",
       "    </tr>\n",
       "    <tr>\n",
       "      <th>1</th>\n",
       "      <td>2</td>\n",
       "      <td>b</td>\n",
       "    </tr>\n",
       "    <tr>\n",
       "      <th>2</th>\n",
       "      <td>3</td>\n",
       "      <td>NaN</td>\n",
       "    </tr>\n",
       "  </tbody>\n",
       "</table>\n",
       "</div>"
      ],
      "text/plain": [
       "   Col1 Col2\n",
       "0     1    a\n",
       "1     2    b\n",
       "2     3  NaN"
      ]
     },
     "execution_count": 23,
     "metadata": {},
     "output_type": "execute_result"
    }
   ],
   "source": [
    "# Create DataFrame from dictionary\n",
    "d = {'Col1': [1, 2, 3], 'Col2': ['a', 'b', np.nan]}\n",
    "df1 = pd.DataFrame(data=d)\n",
    "df1"
   ]
  },
  {
   "cell_type": "code",
   "execution_count": 24,
   "metadata": {
    "scrolled": true,
    "slideshow": {
     "slide_type": "fragment"
    }
   },
   "outputs": [
    {
     "name": "stdout",
     "output_type": "stream",
     "text": [
      "      Col1 Col2\n",
      "Row1     1    a\n",
      "Row2     2    b\n",
      "Row3     3  NaN\n"
     ]
    },
    {
     "data": {
      "text/plain": [
       "{'Col1': [1, 2, 3], 'Col2': ['a', 'b', nan]}"
      ]
     },
     "execution_count": 24,
     "metadata": {},
     "output_type": "execute_result"
    }
   ],
   "source": [
    "# Create DataFrame from list or array\n",
    "df2 = pd.DataFrame(data = [[1, 'a'], [2, 'b'], [3, np.nan]], \n",
    "                  index = ['Row1', 'Row2', 'Row3'], columns = ['Col1', 'Col2'])\n",
    "print(df2)\n",
    "d"
   ]
  },
  {
   "cell_type": "markdown",
   "metadata": {
    "slideshow": {
     "slide_type": "slide"
    }
   },
   "source": [
    "## Example 1: Importing and Viewing Data"
   ]
  },
  {
   "cell_type": "code",
   "execution_count": 25,
   "metadata": {
    "scrolled": true,
    "slideshow": {
     "slide_type": "-"
    }
   },
   "outputs": [
    {
     "name": "stdout",
     "output_type": "stream",
     "text": [
      "  state region    pop  SATV  SATM  percent  dollars  pay\n",
      "0    AL    ESC   4041   470   514        8    3.648   27\n",
      "1    AK    PAC    550   438   476       42    7.887   43\n",
      "2    AZ    MTN   3665   445   497       25    4.231   30\n",
      "3    AR    WSC   2351   470   511        6    3.334   23\n",
      "4    CA    PAC  29760   419   484       45    4.826   39\n"
     ]
    }
   ],
   "source": [
    "# Data source: https://vincentarelbundock.github.io/Rdatasets/doc/carData/States.html\n",
    "\n",
    "df3 = pd.read_csv('States.csv')\n",
    "print(df3.head())"
   ]
  },
  {
   "cell_type": "code",
   "execution_count": 26,
   "metadata": {
    "scrolled": true,
    "slideshow": {
     "slide_type": "fragment"
    }
   },
   "outputs": [
    {
     "name": "stdout",
     "output_type": "stream",
     "text": [
      "Index(['state', 'region', 'pop', 'SATV', 'SATM', 'percent', 'dollars', 'pay'], dtype='object')\n",
      "state       object\n",
      "region      object\n",
      "pop          int64\n",
      "SATV         int64\n",
      "SATM         int64\n",
      "percent      int64\n",
      "dollars    float64\n",
      "pay          int64\n",
      "dtype: object\n",
      "                pop        SATV        SATM    percent    dollars        pay\n",
      "count     51.000000   51.000000   51.000000  51.000000  51.000000  51.000000\n",
      "mean    4876.647059  448.156863  497.392157  33.745098   5.175490  30.941176\n",
      "std     5439.202691   30.821014   34.568817  24.073922   1.376166   5.308151\n",
      "min      454.000000  397.000000  437.000000   4.000000   2.993000  22.000000\n",
      "25%     1215.000000  422.500000  470.000000  11.500000   4.354000  27.500000\n",
      "50%     3294.000000  443.000000  490.000000  25.000000   5.045000  30.000000\n",
      "75%     5780.000000  474.500000  522.500000  57.500000   5.689500  33.500000\n",
      "max    29760.000000  511.000000  577.000000  74.000000   9.159000  43.000000\n"
     ]
    }
   ],
   "source": [
    "print(df3.columns)\n",
    "print(df3.dtypes)\n",
    "print(df3.describe())"
   ]
  },
  {
   "cell_type": "markdown",
   "metadata": {
    "slideshow": {
     "slide_type": "slide"
    }
   },
   "source": [
    "## Example 1: Selecting Data"
   ]
  },
  {
   "cell_type": "code",
   "execution_count": 27,
   "metadata": {
    "scrolled": false,
    "slideshow": {
     "slide_type": "-"
    }
   },
   "outputs": [
    {
     "data": {
      "text/plain": [
       "0     AL\n",
       "1     AK\n",
       "2     AZ\n",
       "3     AR\n",
       "4     CA\n",
       "5     CO\n",
       "6     CN\n",
       "7     DE\n",
       "8     DC\n",
       "9     FL\n",
       "10    GA\n",
       "11    HI\n",
       "12    ID\n",
       "13    IL\n",
       "14    IN\n",
       "15    IA\n",
       "16    KS\n",
       "17    KY\n",
       "18    LA\n",
       "19    ME\n",
       "20    MD\n",
       "21    MA\n",
       "22    MI\n",
       "23    MN\n",
       "24    MS\n",
       "25    MO\n",
       "26    MT\n",
       "27    NE\n",
       "28    NV\n",
       "29    NH\n",
       "30    NJ\n",
       "31    NM\n",
       "32    NY\n",
       "33    NC\n",
       "34    ND\n",
       "35    OH\n",
       "36    OK\n",
       "37    OR\n",
       "38    PA\n",
       "39    RI\n",
       "40    SC\n",
       "41    SD\n",
       "42    TN\n",
       "43    TX\n",
       "44    UT\n",
       "45    VT\n",
       "46    VA\n",
       "47    WA\n",
       "48    WV\n",
       "49    WI\n",
       "50    WY\n",
       "Name: state, dtype: object"
      ]
     },
     "execution_count": 27,
     "metadata": {},
     "output_type": "execute_result"
    }
   ],
   "source": [
    "df3.state  # Select column; equivalent to df3['state']"
   ]
  },
  {
   "cell_type": "code",
   "execution_count": 28,
   "metadata": {
    "scrolled": true,
    "slideshow": {
     "slide_type": "fragment"
    }
   },
   "outputs": [
    {
     "data": {
      "text/html": [
       "<div>\n",
       "<table border=\"1\" class=\"dataframe\">\n",
       "  <thead>\n",
       "    <tr style=\"text-align: right;\">\n",
       "      <th></th>\n",
       "      <th>state</th>\n",
       "      <th>region</th>\n",
       "      <th>pop</th>\n",
       "      <th>SATV</th>\n",
       "      <th>SATM</th>\n",
       "      <th>percent</th>\n",
       "      <th>dollars</th>\n",
       "      <th>pay</th>\n",
       "    </tr>\n",
       "  </thead>\n",
       "  <tbody>\n",
       "    <tr>\n",
       "      <th>0</th>\n",
       "      <td>AL</td>\n",
       "      <td>ESC</td>\n",
       "      <td>4041</td>\n",
       "      <td>470</td>\n",
       "      <td>514</td>\n",
       "      <td>8</td>\n",
       "      <td>3.648</td>\n",
       "      <td>27</td>\n",
       "    </tr>\n",
       "    <tr>\n",
       "      <th>1</th>\n",
       "      <td>AK</td>\n",
       "      <td>PAC</td>\n",
       "      <td>550</td>\n",
       "      <td>438</td>\n",
       "      <td>476</td>\n",
       "      <td>42</td>\n",
       "      <td>7.887</td>\n",
       "      <td>43</td>\n",
       "    </tr>\n",
       "    <tr>\n",
       "      <th>2</th>\n",
       "      <td>AZ</td>\n",
       "      <td>MTN</td>\n",
       "      <td>3665</td>\n",
       "      <td>445</td>\n",
       "      <td>497</td>\n",
       "      <td>25</td>\n",
       "      <td>4.231</td>\n",
       "      <td>30</td>\n",
       "    </tr>\n",
       "  </tbody>\n",
       "</table>\n",
       "</div>"
      ],
      "text/plain": [
       "  state region   pop  SATV  SATM  percent  dollars  pay\n",
       "0    AL    ESC  4041   470   514        8    3.648   27\n",
       "1    AK    PAC   550   438   476       42    7.887   43\n",
       "2    AZ    MTN  3665   445   497       25    4.231   30"
      ]
     },
     "execution_count": 28,
     "metadata": {},
     "output_type": "execute_result"
    }
   ],
   "source": [
    "df3[:3] # Select data by rows"
   ]
  },
  {
   "cell_type": "code",
   "execution_count": 29,
   "metadata": {
    "scrolled": false,
    "slideshow": {
     "slide_type": "fragment"
    }
   },
   "outputs": [
    {
     "data": {
      "text/html": [
       "<div>\n",
       "<table border=\"1\" class=\"dataframe\">\n",
       "  <thead>\n",
       "    <tr style=\"text-align: right;\">\n",
       "      <th></th>\n",
       "      <th>state</th>\n",
       "      <th>region</th>\n",
       "      <th>pop</th>\n",
       "      <th>SATV</th>\n",
       "      <th>SATM</th>\n",
       "      <th>percent</th>\n",
       "      <th>dollars</th>\n",
       "      <th>pay</th>\n",
       "    </tr>\n",
       "  </thead>\n",
       "  <tbody>\n",
       "    <tr>\n",
       "      <th>4</th>\n",
       "      <td>CA</td>\n",
       "      <td>PAC</td>\n",
       "      <td>29760</td>\n",
       "      <td>419</td>\n",
       "      <td>484</td>\n",
       "      <td>45</td>\n",
       "      <td>4.826</td>\n",
       "      <td>39</td>\n",
       "    </tr>\n",
       "    <tr>\n",
       "      <th>9</th>\n",
       "      <td>FL</td>\n",
       "      <td>SA</td>\n",
       "      <td>12938</td>\n",
       "      <td>418</td>\n",
       "      <td>466</td>\n",
       "      <td>44</td>\n",
       "      <td>5.154</td>\n",
       "      <td>30</td>\n",
       "    </tr>\n",
       "    <tr>\n",
       "      <th>13</th>\n",
       "      <td>IL</td>\n",
       "      <td>ENC</td>\n",
       "      <td>11431</td>\n",
       "      <td>466</td>\n",
       "      <td>528</td>\n",
       "      <td>16</td>\n",
       "      <td>5.062</td>\n",
       "      <td>34</td>\n",
       "    </tr>\n",
       "    <tr>\n",
       "      <th>32</th>\n",
       "      <td>NY</td>\n",
       "      <td>MA</td>\n",
       "      <td>17990</td>\n",
       "      <td>412</td>\n",
       "      <td>470</td>\n",
       "      <td>70</td>\n",
       "      <td>8.500</td>\n",
       "      <td>42</td>\n",
       "    </tr>\n",
       "    <tr>\n",
       "      <th>35</th>\n",
       "      <td>OH</td>\n",
       "      <td>ENC</td>\n",
       "      <td>10847</td>\n",
       "      <td>450</td>\n",
       "      <td>499</td>\n",
       "      <td>22</td>\n",
       "      <td>5.639</td>\n",
       "      <td>32</td>\n",
       "    </tr>\n",
       "    <tr>\n",
       "      <th>38</th>\n",
       "      <td>PA</td>\n",
       "      <td>MA</td>\n",
       "      <td>11882</td>\n",
       "      <td>420</td>\n",
       "      <td>463</td>\n",
       "      <td>64</td>\n",
       "      <td>6.534</td>\n",
       "      <td>36</td>\n",
       "    </tr>\n",
       "    <tr>\n",
       "      <th>43</th>\n",
       "      <td>TX</td>\n",
       "      <td>WSC</td>\n",
       "      <td>16987</td>\n",
       "      <td>413</td>\n",
       "      <td>461</td>\n",
       "      <td>42</td>\n",
       "      <td>4.238</td>\n",
       "      <td>28</td>\n",
       "    </tr>\n",
       "  </tbody>\n",
       "</table>\n",
       "</div>"
      ],
      "text/plain": [
       "   state region    pop  SATV  SATM  percent  dollars  pay\n",
       "4     CA    PAC  29760   419   484       45    4.826   39\n",
       "9     FL     SA  12938   418   466       44    5.154   30\n",
       "13    IL    ENC  11431   466   528       16    5.062   34\n",
       "32    NY     MA  17990   412   470       70    8.500   42\n",
       "35    OH    ENC  10847   450   499       22    5.639   32\n",
       "38    PA     MA  11882   420   463       64    6.534   36\n",
       "43    TX    WSC  16987   413   461       42    4.238   28"
      ]
     },
     "execution_count": 29,
     "metadata": {},
     "output_type": "execute_result"
    }
   ],
   "source": [
    "df3[df3['pop'] > 10000]  # Select data by column value"
   ]
  },
  {
   "cell_type": "markdown",
   "metadata": {
    "slideshow": {
     "slide_type": "slide"
    }
   },
   "source": [
    "## Example 1: Grouping"
   ]
  },
  {
   "cell_type": "code",
   "execution_count": 30,
   "metadata": {
    "scrolled": true,
    "slideshow": {
     "slide_type": "-"
    }
   },
   "outputs": [
    {
     "data": {
      "text/html": [
       "<div>\n",
       "<table border=\"1\" class=\"dataframe\">\n",
       "  <thead>\n",
       "    <tr style=\"text-align: right;\">\n",
       "      <th></th>\n",
       "      <th>state</th>\n",
       "      <th>region</th>\n",
       "      <th>pop</th>\n",
       "      <th>SATV</th>\n",
       "      <th>SATM</th>\n",
       "      <th>percent</th>\n",
       "      <th>dollars</th>\n",
       "      <th>pay</th>\n",
       "      <th>SAT</th>\n",
       "      <th>above-avg</th>\n",
       "    </tr>\n",
       "  </thead>\n",
       "  <tbody>\n",
       "    <tr>\n",
       "      <th>0</th>\n",
       "      <td>AL</td>\n",
       "      <td>ESC</td>\n",
       "      <td>4041</td>\n",
       "      <td>470</td>\n",
       "      <td>514</td>\n",
       "      <td>8</td>\n",
       "      <td>3.648</td>\n",
       "      <td>27</td>\n",
       "      <td>984</td>\n",
       "      <td>True</td>\n",
       "    </tr>\n",
       "    <tr>\n",
       "      <th>1</th>\n",
       "      <td>AK</td>\n",
       "      <td>PAC</td>\n",
       "      <td>550</td>\n",
       "      <td>438</td>\n",
       "      <td>476</td>\n",
       "      <td>42</td>\n",
       "      <td>7.887</td>\n",
       "      <td>43</td>\n",
       "      <td>914</td>\n",
       "      <td>False</td>\n",
       "    </tr>\n",
       "    <tr>\n",
       "      <th>2</th>\n",
       "      <td>AZ</td>\n",
       "      <td>MTN</td>\n",
       "      <td>3665</td>\n",
       "      <td>445</td>\n",
       "      <td>497</td>\n",
       "      <td>25</td>\n",
       "      <td>4.231</td>\n",
       "      <td>30</td>\n",
       "      <td>942</td>\n",
       "      <td>True</td>\n",
       "    </tr>\n",
       "    <tr>\n",
       "      <th>3</th>\n",
       "      <td>AR</td>\n",
       "      <td>WSC</td>\n",
       "      <td>2351</td>\n",
       "      <td>470</td>\n",
       "      <td>511</td>\n",
       "      <td>6</td>\n",
       "      <td>3.334</td>\n",
       "      <td>23</td>\n",
       "      <td>981</td>\n",
       "      <td>True</td>\n",
       "    </tr>\n",
       "    <tr>\n",
       "      <th>4</th>\n",
       "      <td>CA</td>\n",
       "      <td>PAC</td>\n",
       "      <td>29760</td>\n",
       "      <td>419</td>\n",
       "      <td>484</td>\n",
       "      <td>45</td>\n",
       "      <td>4.826</td>\n",
       "      <td>39</td>\n",
       "      <td>903</td>\n",
       "      <td>False</td>\n",
       "    </tr>\n",
       "  </tbody>\n",
       "</table>\n",
       "</div>"
      ],
      "text/plain": [
       "  state region    pop  SATV  SATM  percent  dollars  pay  SAT above-avg\n",
       "0    AL    ESC   4041   470   514        8    3.648   27  984      True\n",
       "1    AK    PAC    550   438   476       42    7.887   43  914     False\n",
       "2    AZ    MTN   3665   445   497       25    4.231   30  942      True\n",
       "3    AR    WSC   2351   470   511        6    3.334   23  981      True\n",
       "4    CA    PAC  29760   419   484       45    4.826   39  903     False"
      ]
     },
     "execution_count": 30,
     "metadata": {},
     "output_type": "execute_result"
    }
   ],
   "source": [
    "# Add a column that indicates whether state performed above median on SAT\n",
    "df3['SAT'] = df3['SATV'] + df3['SATM']\n",
    "df3['above-avg'] = df3['SAT'] > df3['SAT'].median()\n",
    "df3.head()"
   ]
  },
  {
   "cell_type": "code",
   "execution_count": 31,
   "metadata": {
    "scrolled": true,
    "slideshow": {
     "slide_type": "fragment"
    }
   },
   "outputs": [
    {
     "data": {
      "text/html": [
       "<div>\n",
       "<table border=\"1\" class=\"dataframe\">\n",
       "  <thead>\n",
       "    <tr style=\"text-align: right;\">\n",
       "      <th></th>\n",
       "      <th>pop</th>\n",
       "      <th>SATV</th>\n",
       "      <th>SATM</th>\n",
       "      <th>percent</th>\n",
       "      <th>dollars</th>\n",
       "      <th>pay</th>\n",
       "      <th>SAT</th>\n",
       "    </tr>\n",
       "    <tr>\n",
       "      <th>above-avg</th>\n",
       "      <th></th>\n",
       "      <th></th>\n",
       "      <th></th>\n",
       "      <th></th>\n",
       "      <th></th>\n",
       "      <th></th>\n",
       "      <th></th>\n",
       "    </tr>\n",
       "  </thead>\n",
       "  <tbody>\n",
       "    <tr>\n",
       "      <th>False</th>\n",
       "      <td>6047.461538</td>\n",
       "      <td>422.076923</td>\n",
       "      <td>468.423077</td>\n",
       "      <td>54.615385</td>\n",
       "      <td>5.940538</td>\n",
       "      <td>33.807692</td>\n",
       "      <td>890.5</td>\n",
       "    </tr>\n",
       "    <tr>\n",
       "      <th>True</th>\n",
       "      <td>3659.000000</td>\n",
       "      <td>475.280000</td>\n",
       "      <td>527.520000</td>\n",
       "      <td>12.040000</td>\n",
       "      <td>4.379840</td>\n",
       "      <td>27.960000</td>\n",
       "      <td>1002.8</td>\n",
       "    </tr>\n",
       "  </tbody>\n",
       "</table>\n",
       "</div>"
      ],
      "text/plain": [
       "                   pop        SATV        SATM    percent   dollars  \\\n",
       "above-avg                                                             \n",
       "False      6047.461538  422.076923  468.423077  54.615385  5.940538   \n",
       "True       3659.000000  475.280000  527.520000  12.040000  4.379840   \n",
       "\n",
       "                 pay     SAT  \n",
       "above-avg                     \n",
       "False      33.807692   890.5  \n",
       "True       27.960000  1002.8  "
      ]
     },
     "execution_count": 31,
     "metadata": {},
     "output_type": "execute_result"
    }
   ],
   "source": [
    "# Get mean indicators by SAT performance\n",
    "df3.groupby('above-avg').mean()"
   ]
  },
  {
   "cell_type": "markdown",
   "metadata": {
    "slideshow": {
     "slide_type": "slide"
    }
   },
   "source": [
    "## Example 2: Formatting 18 Datasets\n",
    "\n",
    "Tsvetkova, M., Wagner, C., & Mao, A. (2018). [The emergence of inequality in social groups: Network structure and institutions affect the distribution of earnings in cooperation games](https://doi.org/10.1371/journal.pone.0200965). *PloS One*, 13(7), e0200965."
   ]
  },
  {
   "cell_type": "markdown",
   "metadata": {
    "slideshow": {
     "slide_type": "fragment"
    }
   },
   "source": [
    "```\n",
    "00C000000000000\n",
    "000000000000000\n",
    "000801000080180\n",
    "000000000000000\n",
    "E6027B780080E84\n",
    "000000000000000\n",
    "6DB1A52006C5274\n",
    "FC21E0008100040\n",
    "FFD400000078000\n",
    "F386808CC020814\n",
    "```"
   ]
  },
  {
   "cell_type": "markdown",
   "metadata": {
    "slideshow": {
     "slide_type": "slide"
    }
   },
   "source": [
    "## Example 2: Transform from Wide to Long\n",
    "\n",
    "![Original data](figs/orig_data.png \"Original data\")\n",
    "\n",
    "![New data](figs/new_data.png \"New data\")\n"
   ]
  },
  {
   "cell_type": "markdown",
   "metadata": {
    "slideshow": {
     "slide_type": "slide"
    }
   },
   "source": [
    "## Example 2: Transform from Wide to Long"
   ]
  },
  {
   "cell_type": "code",
   "execution_count": null,
   "metadata": {
    "scrolled": true,
    "slideshow": {
     "slide_type": "-"
    }
   },
   "outputs": [],
   "source": [
    "'''\n",
    "NETS = {'4_k_6':'cliques', '4_k_6_cycle':'cycle', '4_k_6_random_reg':'random', \n",
    "        '4_k_6_pair':'paired cliques', '4_k_6_random':'small world'}\n",
    "\n",
    "# Get original data\n",
    "data = pd.read_csv('./data_anon.csv')\n",
    "\n",
    "# Subset to group size = 24 and no bots\n",
    "data = data[(data['num_players']==24) & (data['num_dummies']==0)]\n",
    "\n",
    "# Convert from wide to long to get cumulative_payoff per round\n",
    "data['id'] = data.index\n",
    "x = pd.wide_to_long(data, ['contribution', 'cumulative_payoff', 'auto_contrib'], i='id', j='round')\n",
    "x.reset_index(inplace=True)\n",
    "\n",
    "# Get payoff per period from cumulative payoff\n",
    "x = x.sort_values(by=['exp_id', 'player_id', 'round'])\n",
    "x['payoff'] = x['cumulative_payoff'].sub(x['cumulative_payoff'].shift())\n",
    "x['payoff'].iloc[0] = x['cumulative_payoff'].iloc[0]\n",
    "x_t1 = x[x['round'] == 1]\n",
    "x.loc[x.index.isin(x_t1.index), 'payoff'] = x_t1['cumulative_payoff']\n",
    "\n",
    "# Select relevant data and rename columns\n",
    "x['treatment1'] = [NETS[i] for i in x['graph_id']]\n",
    "x = x[['treatment1', 'exp_id', 'player_id', 'round', 'contribution', 'payoff', 'cumulative_payoff']]\n",
    "x.columns = ['treatment1', 'group', 'player', 'round', 'action', 'payoff', 'wealth']\n",
    "\n",
    "# Treat treatments as categorical data\n",
    "x['treatment1'] = x['treatment1'].astype('category')\n",
    "# Order the categories\n",
    "x['treatment1'].cat.reorder_categories(['cliques', 'paired cliques', 'cycle', 'small world', 'random'])\n",
    "\n",
    "# Export new data\n",
    "x.to_csv('suri_data.csv', index=False)\n",
    "'''"
   ]
  },
  {
   "cell_type": "markdown",
   "metadata": {
    "slideshow": {
     "slide_type": "slide"
    }
   },
   "source": [
    "## Resources\n",
    "\n",
    "* Get started: [First Pandas tutorial](https://pandas.pydata.org/pandas-docs/stable/10min.html)\n",
    "* Get better: [More advanced Pandas tutorial](https://pandas.pydata.org/pandas-docs/stable/cookbook.html)\n",
    "* Get it done fast: [Pandas cheatsheet](http://pandas.pydata.org/Pandas_Cheat_Sheet.pdf)\n",
    "* Get it all done: [Pandas API](https://pandas.pydata.org/pandas-docs/stable/api.html)"
   ]
  }
 ],
 "metadata": {
  "celltoolbar": "Slideshow",
  "kernelspec": {
   "display_name": "Python [default]",
   "language": "python",
   "name": "python3"
  },
  "language_info": {
   "codemirror_mode": {
    "name": "ipython",
    "version": 3
   },
   "file_extension": ".py",
   "mimetype": "text/x-python",
   "name": "python",
   "nbconvert_exporter": "python",
   "pygments_lexer": "ipython3",
   "version": "3.6.3"
  }
 },
 "nbformat": 4,
 "nbformat_minor": 2
}
